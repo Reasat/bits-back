{
 "cells": [
  {
   "cell_type": "code",
   "execution_count": 1,
   "metadata": {},
   "outputs": [
    {
     "data": {
      "text/plain": [
       "'\\nClosely based on https://github.com/rygorous/ryg_rans/blob/master/rans64.h by\\nFabian Giesen.\\n\\nWe use the pythonic names `append` and `pop` for encoding and decoding\\nrespectively. The compressed state is a pair `msg = (head, tail)`, where `head`\\nis an int in the range `[0, 2 ** head_precision)` and `tail` is an immutable\\nstack, implemented using a cons list, containing ints in the range\\n`[0, 2 ** tail_precision)`. The precisions must satisfy\\n\\n  tail_precision < head_precision <= 2 * tail_precision.\\n\\nFor convenient compatibility with Numpy dtypes we use the settings\\nhead_precision = 64 and tail_precision = 32.\\n\\nBoth the `append` method and the `pop` method assume access to a probability\\ndistribution over symbols. We use the name `symb` for a symbol. To describe the\\nprobability distribution we model the real interval [0, 1] with the range of\\nintegers {0, 1, 2, ..., 2 ** precision}. Each symbol is represented by a\\nsub-interval within that range. This can be visualized for a probability\\ndistribution over the set of symbols {a, b, c, d}:\\n\\n    0                                                             1\\n    |          |----- P(symb) ------|                             |\\n    |                                                             |\\n    |    a           symb == b           c              d         |\\n    |----------|--------------------|---------|-------------------|\\n    |                                                             |\\n    |          |------ prob --------|                             |\\n    0        start                                            2 ** precision\\n\\nEach sub-interval can be represented by a pair of non-negative integers:\\n`start` and `prob`. As shown in the above diagram, the number `prob` represents\\nthe width of the interval, corresponding to `symb`, so that\\n\\n  P(symb) = prob / 2 ** precision\\n\\nwhere P is the probability mass function of our distribution.\\n\\nThe number `start` represents the beginning of the interval corresponding to\\n`symb`, which is analagous to the cumulative distribution function evaluated on\\n`symb`.\\n'"
      ]
     },
     "execution_count": 1,
     "metadata": {},
     "output_type": "execute_result"
    }
   ],
   "source": [
    "\"\"\"\n",
    "Closely based on https://github.com/rygorous/ryg_rans/blob/master/rans64.h by\n",
    "Fabian Giesen.\n",
    "\n",
    "We use the pythonic names `append` and `pop` for encoding and decoding\n",
    "respectively. The compressed state is a pair `msg = (head, tail)`, where `head`\n",
    "is an int in the range `[0, 2 ** head_precision)` and `tail` is an immutable\n",
    "stack, implemented using a cons list, containing ints in the range\n",
    "`[0, 2 ** tail_precision)`. The precisions must satisfy\n",
    "\n",
    "  tail_precision < head_precision <= 2 * tail_precision.\n",
    "\n",
    "For convenient compatibility with Numpy dtypes we use the settings\n",
    "head_precision = 64 and tail_precision = 32.\n",
    "\n",
    "Both the `append` method and the `pop` method assume access to a probability\n",
    "distribution over symbols. We use the name `symb` for a symbol. To describe the\n",
    "probability distribution we model the real interval [0, 1] with the range of\n",
    "integers {0, 1, 2, ..., 2 ** precision}. Each symbol is represented by a\n",
    "sub-interval within that range. This can be visualized for a probability\n",
    "distribution over the set of symbols {a, b, c, d}:\n",
    "\n",
    "    0                                                             1\n",
    "    |          |----- P(symb) ------|                             |\n",
    "    |                                                             |\n",
    "    |    a           symb == b           c              d         |\n",
    "    |----------|--------------------|---------|-------------------|\n",
    "    |                                                             |\n",
    "    |          |------ prob --------|                             |\n",
    "    0        start                                            2 ** precision\n",
    "\n",
    "Each sub-interval can be represented by a pair of non-negative integers:\n",
    "`start` and `prob`. As shown in the above diagram, the number `prob` represents\n",
    "the width of the interval, corresponding to `symb`, so that\n",
    "\n",
    "  P(symb) = prob / 2 ** precision\n",
    "\n",
    "where P is the probability mass function of our distribution.\n",
    "\n",
    "The number `start` represents the beginning of the interval corresponding to\n",
    "`symb`, which is analagous to the cumulative distribution function evaluated on\n",
    "`symb`.\n",
    "\"\"\""
   ]
  },
  {
   "cell_type": "code",
   "execution_count": 2,
   "metadata": {},
   "outputs": [],
   "source": [
    "import numpy as np\n",
    "from functools import reduce\n",
    "import util"
   ]
  },
  {
   "cell_type": "code",
   "execution_count": 31,
   "metadata": {},
   "outputs": [],
   "source": [
    "def append(msg, start, prob, precision):\n",
    "    \"\"\"\n",
    "    Encodes a symbol with range `[start, start + prob)`.  All `prob`s are\n",
    "    assumed to sum to `2 ** precision`. Compressed bits get written to `msg`.\n",
    "    \"\"\"\n",
    "    # Prevent Numpy scalars leaking in\n",
    "    start, prob, precision = map(int, [start, prob, precision])\n",
    "    head, tail = msg\n",
    "    print('width of prob distribution range in integer units: ',1<<precision)\n",
    "    print('input head:', head)\n",
    "    print('start, prob, precision: ',start, prob, precision )\n",
    "    if head >= prob << head_precision - precision:\n",
    "        print('prob << head_precision - precision = ',prob << head_precision - precision)\n",
    "        # Need to push data down into tail\n",
    "        print('new head', head >> tail_precision)\n",
    "        print('new tail', (head & tail_mask, tail))\n",
    "        head, tail = head >> tail_precision, (head & tail_mask, tail)\n",
    "    print('appended head components, \\nhead // prob << precision = {}, head % prob = {}, start = {}\\nhead = {}   '.format(\n",
    "          (head // prob << precision),\n",
    "          head % prob,\n",
    "          start,\n",
    "          (head // prob << precision) + head % prob + start)\n",
    "         )\n",
    "    return (head // prob << precision) + head % prob + start, tail\n",
    "\n",
    "def pop(msg, statfun, precision):\n",
    "    \"\"\"\n",
    "    Pops a symbol from msg. The signiature of statfun should be\n",
    "        statfun: cf |-> symb, (start, prob)\n",
    "    where `cf` is in the interval `[start, start + prob)` and `symb` is the\n",
    "    symbol corresponding to that interval.\n",
    "    \"\"\"\n",
    "    # Prevent Numpy scalars leaking in\n",
    "    precision = int(precision)\n",
    "    head, tail = msg\n",
    "    cf = head & ((1 << precision) - 1)\n",
    "    symb, (start, prob) = statfun(cf)\n",
    "    # Prevent Numpy scalars leaking in\n",
    "    start, prob = int(start), int(prob)\n",
    "    head = prob * (head >> precision) + cf - start\n",
    "    if head < head_min:\n",
    "        # Need to pull data up from tail\n",
    "        head_new, tail = tail\n",
    "        head = (head << tail_precision) + head_new\n",
    "    return (head, tail), symb\n",
    "\n",
    "def append_symbol(statfun, precision):\n",
    "    def append_(msg, symbol):\n",
    "        start, prob = statfun(symbol)\n",
    "        return append(msg, start, prob, precision)\n",
    "    return append_\n",
    "\n",
    "def pop_symbol(statfun, precision):\n",
    "    def pop_(msg):\n",
    "        return pop(msg, statfun, precision)\n",
    "    return pop_\n",
    "\n",
    "def flatten(msg):\n",
    "    \"\"\"Flatten a rANS message into a 1d numpy array.\"\"\"\n",
    "    out, msg = [msg[0] >> 32, msg[0]], msg[1]\n",
    "    while msg:\n",
    "        x_head, msg = msg\n",
    "        out.append(x_head)\n",
    "    return np.asarray(out, dtype=np.uint32)\n",
    "\n",
    "def unflatten(arr):\n",
    "    \"\"\"Unflatten a 1d numpy array into a rANS message.\"\"\"\n",
    "    #print(int(arr[0])<<32)\n",
    "    #print(int(arr[1]))\n",
    "    return (int(arr[0]) << 32 | int(arr[1]),\n",
    "            reduce(lambda tl, hd: (int(hd), tl), reversed(arr[2:]), ()))"
   ]
  },
  {
   "cell_type": "code",
   "execution_count": 29,
   "metadata": {},
   "outputs": [
    {
     "name": "stdout",
     "output_type": "stream",
     "text": [
      "15\n",
      "16\n"
     ]
    }
   ],
   "source": [
    "head_precision = 8\n",
    "tail_precision = 4\n",
    "tail_mask = (1 << tail_precision) - 1\n",
    "head_min  = 1 << head_precision - tail_precision\n",
    "print(tail_mask)\n",
    "print(head_min)"
   ]
  },
  {
   "cell_type": "code",
   "execution_count": 30,
   "metadata": {},
   "outputs": [
    {
     "data": {
      "text/plain": [
       "(16, ())"
      ]
     },
     "execution_count": 30,
     "metadata": {},
     "output_type": "execute_result"
    }
   ],
   "source": [
    "#          head    , tail\n",
    "msg_init = head_min, ()\n",
    "msg_init"
   ]
  },
  {
   "cell_type": "code",
   "execution_count": 6,
   "metadata": {},
   "outputs": [],
   "source": [
    "# other_bits = [1,2,2]\n",
    "# state = unflatten(other_bits)\n",
    "# print(state)    "
   ]
  },
  {
   "cell_type": "code",
   "execution_count": 28,
   "metadata": {},
   "outputs": [],
   "source": [
    "uniform_enc_statfun = lambda s: (s, 1)\n",
    "uniform_dec_statfun = lambda cf: (cf, (cf, 1))"
   ]
  },
  {
   "cell_type": "code",
   "execution_count": 27,
   "metadata": {},
   "outputs": [
    {
     "name": "stdout",
     "output_type": "stream",
     "text": [
      "width of prob distribution in discrete units:  16\n",
      "input head: 4\n",
      "start, prob, precision:  4 1 4\n",
      "prob << head_precision - precision =  1\n",
      "new head 1\n",
      "new tail (0, ())\n",
      "appended head components, \n",
      "head // prob << precision = 16, head % prob = 0, start = 4\n",
      "head = 20   \n"
     ]
    },
    {
     "data": {
      "text/plain": [
       "(20, (0, ()))"
      ]
     },
     "execution_count": 27,
     "metadata": {},
     "output_type": "execute_result"
    }
   ],
   "source": [
    "state=append_symbol(uniform_enc_statfun,precision=4)(msg_init,4)\n",
    "state"
   ]
  },
  {
   "cell_type": "code",
   "execution_count": 9,
   "metadata": {},
   "outputs": [
    {
     "name": "stdout",
     "output_type": "stream",
     "text": [
      "width of prob distribution in discrete units:  16\n",
      "input head: 20\n",
      "start, prob, precision:  4 1 4\n",
      "prob << head_precision - precision =  16\n",
      "new head 1\n",
      "new tail (4, (0, ()))\n",
      "appended head components, \n",
      "head // prob << precision = 16, head % prob = 0, start = 4\n",
      "head = 20   \n"
     ]
    },
    {
     "data": {
      "text/plain": [
       "(20, (4, (0, ())))"
      ]
     },
     "execution_count": 9,
     "metadata": {},
     "output_type": "execute_result"
    }
   ],
   "source": [
    "state=append_symbol(uniform_enc_statfun,precision=4)(state,4)\n",
    "state"
   ]
  },
  {
   "cell_type": "code",
   "execution_count": 10,
   "metadata": {},
   "outputs": [
    {
     "name": "stdout",
     "output_type": "stream",
     "text": [
      "width of prob distribution in discrete units:  256\n",
      "input head: 20\n",
      "start, prob, precision:  1 1 8\n",
      "prob << head_precision - precision =  1\n",
      "new head 1\n",
      "new tail (4, (4, (0, ())))\n",
      "appended head components, \n",
      "head // prob << precision = 256, head % prob = 0, start = 1\n",
      "head = 257   \n"
     ]
    },
    {
     "data": {
      "text/plain": [
       "(257, (4, (4, (0, ()))))"
      ]
     },
     "execution_count": 10,
     "metadata": {},
     "output_type": "execute_result"
    }
   ],
   "source": [
    "state=append_symbol(uniform_enc_statfun,precision=head_precision)(state,1)\n",
    "state"
   ]
  },
  {
   "cell_type": "code",
   "execution_count": 11,
   "metadata": {},
   "outputs": [
    {
     "name": "stdout",
     "output_type": "stream",
     "text": [
      "width of prob distribution in discrete units:  256\n",
      "input head: 257\n",
      "start, prob, precision:  1 1 8\n",
      "prob << head_precision - precision =  1\n",
      "new head 16\n",
      "new tail (1, (4, (4, (0, ()))))\n",
      "appended head components, \n",
      "head // prob << precision = 4096, head % prob = 0, start = 1\n",
      "head = 4097   \n"
     ]
    },
    {
     "data": {
      "text/plain": [
       "(4097, (1, (4, (4, (0, ())))))"
      ]
     },
     "execution_count": 11,
     "metadata": {},
     "output_type": "execute_result"
    }
   ],
   "source": [
    "state=append_symbol(uniform_enc_statfun,precision=head_precision)(state,1)\n",
    "state"
   ]
  },
  {
   "cell_type": "code",
   "execution_count": 12,
   "metadata": {},
   "outputs": [
    {
     "name": "stdout",
     "output_type": "stream",
     "text": [
      "width of prob distribution in discrete units:  256\n",
      "input head: 4097\n",
      "start, prob, precision:  3 1 8\n",
      "prob << head_precision - precision =  1\n",
      "new head 256\n",
      "new tail (1, (1, (4, (4, (0, ())))))\n",
      "appended head components, \n",
      "head // prob << precision = 65536, head % prob = 0, start = 3\n",
      "head = 65539   \n"
     ]
    },
    {
     "data": {
      "text/plain": [
       "(65539, (1, (1, (4, (4, (0, ()))))))"
      ]
     },
     "execution_count": 12,
     "metadata": {},
     "output_type": "execute_result"
    }
   ],
   "source": [
    "state=append_symbol(uniform_enc_statfun,precision=head_precision)(state,3)\n",
    "state"
   ]
  },
  {
   "cell_type": "code",
   "execution_count": 13,
   "metadata": {},
   "outputs": [
    {
     "name": "stdout",
     "output_type": "stream",
     "text": [
      "width of prob distribution in discrete units:  256\n",
      "input head: 65539\n",
      "start, prob, precision:  3 1 8\n",
      "prob << head_precision - precision =  1\n",
      "new head 4096\n",
      "new tail (3, (1, (1, (4, (4, (0, ()))))))\n",
      "appended head components, \n",
      "head // prob << precision = 1048576, head % prob = 0, start = 3\n",
      "head = 1048579   \n"
     ]
    },
    {
     "data": {
      "text/plain": [
       "(1048579, (3, (1, (1, (4, (4, (0, ())))))))"
      ]
     },
     "execution_count": 13,
     "metadata": {},
     "output_type": "execute_result"
    }
   ],
   "source": [
    "state=append_symbol(uniform_enc_statfun,precision=head_precision)(state,3)\n",
    "state"
   ]
  },
  {
   "cell_type": "code",
   "execution_count": 14,
   "metadata": {},
   "outputs": [
    {
     "data": {
      "text/plain": [
       "array([      0, 1048579,       3,       1,       1,       4,       4,\n",
       "             0], dtype=uint32)"
      ]
     },
     "execution_count": 14,
     "metadata": {},
     "output_type": "execute_result"
    }
   ],
   "source": [
    "flatten(state)"
   ]
  },
  {
   "cell_type": "code",
   "execution_count": 15,
   "metadata": {},
   "outputs": [
    {
     "data": {
      "text/plain": [
       "((4096, (3, (1, (1, (4, (4, (0, ()))))))), 3)"
      ]
     },
     "execution_count": 15,
     "metadata": {},
     "output_type": "execute_result"
    }
   ],
   "source": [
    "state,symbol = pop_symbol(uniform_dec_statfun,precision=head_precision)(state)\n",
    "state,symbol"
   ]
  },
  {
   "cell_type": "code",
   "execution_count": 16,
   "metadata": {},
   "outputs": [
    {
     "data": {
      "text/plain": [
       "((16, (3, (1, (1, (4, (4, (0, ()))))))), 0)"
      ]
     },
     "execution_count": 16,
     "metadata": {},
     "output_type": "execute_result"
    }
   ],
   "source": [
    "state,symbol = pop_symbol(uniform_dec_statfun,precision=head_precision)(state)\n",
    "state,symbol"
   ]
  },
  {
   "cell_type": "code",
   "execution_count": 17,
   "metadata": {},
   "outputs": [
    {
     "data": {
      "text/plain": [
       "((3, (1, (1, (4, (4, (0, ())))))), 16)"
      ]
     },
     "execution_count": 17,
     "metadata": {},
     "output_type": "execute_result"
    }
   ],
   "source": [
    "state,symbol = pop_symbol(uniform_dec_statfun,precision=head_precision)(state)\n",
    "state,symbol"
   ]
  },
  {
   "cell_type": "code",
   "execution_count": 18,
   "metadata": {},
   "outputs": [
    {
     "data": {
      "text/plain": [
       "((1, (1, (4, (4, (0, ()))))), 3)"
      ]
     },
     "execution_count": 18,
     "metadata": {},
     "output_type": "execute_result"
    }
   ],
   "source": [
    "state,symbol = pop_symbol(uniform_dec_statfun,precision=head_precision)(state)\n",
    "state,symbol"
   ]
  },
  {
   "cell_type": "code",
   "execution_count": 23,
   "metadata": {},
   "outputs": [
    {
     "data": {
      "text/plain": [
       "(3, 2)"
      ]
     },
     "execution_count": 23,
     "metadata": {},
     "output_type": "execute_result"
    }
   ],
   "source": [
    "np.shape([[2,3],[3,6],[3,8]])"
   ]
  }
 ],
 "metadata": {
  "kernelspec": {
   "display_name": "Python 3",
   "language": "python",
   "name": "python3"
  },
  "language_info": {
   "codemirror_mode": {
    "name": "ipython",
    "version": 3
   },
   "file_extension": ".py",
   "mimetype": "text/x-python",
   "name": "python",
   "nbconvert_exporter": "python",
   "pygments_lexer": "ipython3",
   "version": "3.7.6"
  }
 },
 "nbformat": 4,
 "nbformat_minor": 2
}
