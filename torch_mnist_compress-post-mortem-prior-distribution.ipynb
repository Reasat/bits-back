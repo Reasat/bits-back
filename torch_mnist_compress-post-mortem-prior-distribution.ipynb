{
 "cells": [
  {
   "cell_type": "code",
   "execution_count": 201,
   "metadata": {},
   "outputs": [],
   "source": [
    "import os\n",
    "import torch\n",
    "import numpy as np\n",
    "import util\n",
    "import rans\n",
    "from torch_vae.tvae_beta_binomial import BetaBinomialVAE\n",
    "from torch_vae import tvae_utils\n",
    "from torchvision import datasets, transforms\n",
    "import time\n",
    "import matplotlib.pyplot as plt\n",
    "from scipy.stats import norm, beta, binom\n",
    "from scipy.special import gammaln"
   ]
  },
  {
   "cell_type": "code",
   "execution_count": 202,
   "metadata": {},
   "outputs": [],
   "source": [
    "rng = np.random.RandomState(0)\n",
    "np.seterr(over='raise')\n",
    "\n",
    "prior_precision = 8\n",
    "obs_precision = 14\n",
    "q_precision = 14\n",
    "\n",
    "num_images = 100\n",
    "\n",
    "compress_lengths = []\n",
    "\n",
    "latent_dim = 50\n",
    "latent_shape = (1, latent_dim)"
   ]
  },
  {
   "cell_type": "code",
   "execution_count": 203,
   "metadata": {},
   "outputs": [],
   "source": [
    "model = BetaBinomialVAE(hidden_dim=200, latent_dim=latent_dim)\n",
    "model.load_state_dict(\n",
    "    torch.load('torch_vae/saved_params/torch_vae_beta_binomial_params',\n",
    "               map_location=lambda storage, location: storage))\n",
    "model.eval()\n",
    "\n",
    "rec_net = tvae_utils.torch_fun_to_numpy_fun(model.encode)\n",
    "gen_net = tvae_utils.torch_fun_to_numpy_fun(model.decode)\n",
    "\n",
    "obs_append = tvae_utils.beta_binomial_obs_append(255, obs_precision)\n",
    "obs_pop = tvae_utils.beta_binomial_obs_pop(255, obs_precision)\n",
    "\n",
    "vae_append = util.vae_append(latent_shape, gen_net, rec_net, obs_append,\n",
    "                             prior_precision, q_precision)\n",
    "vae_pop = util.vae_pop(latent_shape, gen_net, rec_net, obs_pop,\n",
    "                       prior_precision, q_precision)"
   ]
  },
  {
   "cell_type": "code",
   "execution_count": 204,
   "metadata": {},
   "outputs": [
    {
     "name": "stderr",
     "output_type": "stream",
     "text": [
      "/home/reasatt/miniconda3/envs/bb/lib/python3.7/site-packages/torchvision/datasets/mnist.py:58: UserWarning: test_data has been renamed data\n",
      "  warnings.warn(\"test_data has been renamed data\")\n"
     ]
    }
   ],
   "source": [
    "# load some mnist images\n",
    "num_images=2\n",
    "\n",
    "mnist = datasets.MNIST('data/mnist', train=False, download=True,\n",
    "                       transform=transforms.Compose([transforms.ToTensor()]))\n",
    "images = mnist.test_data[:num_images]\n",
    "\n",
    "images = [image.float().view(1, -1) for image in images]\n",
    "\n",
    "# randomly generate some 'other' bits\n",
    "other_bits = rng.randint(low=1 << 16, high=1 << 31, size=50, dtype=np.uint32)\n",
    "state = rans.unflatten(other_bits)"
   ]
  },
  {
   "cell_type": "code",
   "execution_count": 205,
   "metadata": {},
   "outputs": [
    {
     "data": {
      "text/plain": [
       "257"
      ]
     },
     "execution_count": 205,
     "metadata": {},
     "output_type": "execute_result"
    }
   ],
   "source": [
    "(1 << 8) +1"
   ]
  },
  {
   "cell_type": "code",
   "execution_count": 206,
   "metadata": {},
   "outputs": [],
   "source": [
    "precision=3"
   ]
  },
  {
   "cell_type": "code",
   "execution_count": 207,
   "metadata": {},
   "outputs": [
    {
     "data": {
      "text/plain": [
       "array([0.   , 0.125, 0.25 , 0.375, 0.5  , 0.625, 0.75 , 0.875, 1.   ])"
      ]
     },
     "execution_count": 207,
     "metadata": {},
     "output_type": "execute_result"
    }
   ],
   "source": [
    "np.arange((1 << precision) + 1) / (1 << precision)"
   ]
  },
  {
   "cell_type": "code",
   "execution_count": 208,
   "metadata": {},
   "outputs": [
    {
     "data": {
      "text/plain": [
       "array([0.   , 0.125, 0.25 , 0.375, 0.5  , 0.625, 0.75 , 0.875, 1.   ,\n",
       "       1.125, 1.25 , 1.375, 1.5  , 1.625, 1.75 , 1.875])"
      ]
     },
     "execution_count": 208,
     "metadata": {},
     "output_type": "execute_result"
    }
   ],
   "source": [
    "np.arange(1 << precision+1) / (1 << precision)"
   ]
  },
  {
   "cell_type": "code",
   "execution_count": 209,
   "metadata": {},
   "outputs": [
    {
     "data": {
      "text/plain": [
       "(9,)"
      ]
     },
     "execution_count": 209,
     "metadata": {},
     "output_type": "execute_result"
    }
   ],
   "source": [
    "norm.ppf(np.arange((1 << precision) + 1) / (1 << precision)).shape"
   ]
  },
  {
   "cell_type": "code",
   "execution_count": 210,
   "metadata": {},
   "outputs": [],
   "source": [
    "prior_prec=8\n",
    "latent_prec=12\n",
    "def gaussian_latent_cdf(mean, stdd, prior_prec, post_prec):\n",
    "    def cdf(idx):\n",
    "        x = std_gaussian_buckets(prior_prec)[idx]\n",
    "        return _nearest_int(norm.cdf(x, mean, stdd) * (1 << post_prec))\n",
    "    return cdf\n",
    "def _nearest_int(arr):\n",
    "    # This will break when vectorized\n",
    "    return int(np.around(arr))\n",
    "std_gaussian_bucket_cache = {}  # Stores bucket endpoints\n",
    "def std_gaussian_buckets(precision):\n",
    "    \"\"\"\n",
    "    Return the endpoints of buckets partioning the domain of the prior. Each\n",
    "    bucket has mass 1 / (1 << precision) under the prior.\n",
    "    \"\"\"\n",
    "    if precision in std_gaussian_bucket_cache:\n",
    "#         print(std_gaussian_bucket_cache)\n",
    "        return std_gaussian_bucket_cache[precision]\n",
    "    else:\n",
    "        buckets = np.float32(\n",
    "            norm.ppf(np.arange((1 << precision) + 1) / (1 << precision)))\n",
    "        std_gaussian_bucket_cache[precision] = buckets\n",
    "#         print(std_gaussian_bucket_cache)\n",
    "        return buckets"
   ]
  },
  {
   "cell_type": "code",
   "execution_count": 211,
   "metadata": {},
   "outputs": [],
   "source": [
    "# std_gaussian_bucket_cache[8]"
   ]
  },
  {
   "cell_type": "code",
   "execution_count": 212,
   "metadata": {},
   "outputs": [],
   "source": [
    "post_mean, post_stdd = rec_net(images[0])\n",
    "post_mean, post_stdd = np.ravel(post_mean), np.ravel(post_stdd)\n",
    "cdfs = [gaussian_latent_cdf(m, s, prior_prec, latent_prec)\n",
    "                for m, s in zip(post_mean, post_stdd)]"
   ]
  },
  {
   "cell_type": "code",
   "execution_count": 213,
   "metadata": {},
   "outputs": [
    {
     "ename": "KeyError",
     "evalue": "8",
     "output_type": "error",
     "traceback": [
      "\u001b[0;31m---------------------------------------------------------------------------\u001b[0m",
      "\u001b[0;31mKeyError\u001b[0m                                  Traceback (most recent call last)",
      "\u001b[0;32m<ipython-input-213-a570339f6de6>\u001b[0m in \u001b[0;36m<module>\u001b[0;34m\u001b[0m\n\u001b[0;32m----> 1\u001b[0;31m \u001b[0mx\u001b[0m\u001b[0;34m=\u001b[0m\u001b[0mstd_gaussian_bucket_cache\u001b[0m\u001b[0;34m[\u001b[0m\u001b[0;36m8\u001b[0m\u001b[0;34m]\u001b[0m\u001b[0;34m\u001b[0m\u001b[0;34m\u001b[0m\u001b[0m\n\u001b[0m",
      "\u001b[0;31mKeyError\u001b[0m: 8"
     ]
    }
   ],
   "source": [
    "x=std_gaussian_bucket_cache[8]"
   ]
  },
  {
   "cell_type": "code",
   "execution_count": 214,
   "metadata": {},
   "outputs": [
    {
     "data": {
      "text/plain": [
       "array([       -inf, -2.6600676 , -2.417559  , -2.2662268 , -2.1538746 ,\n",
       "       -2.0635278 , -1.9874278 , -1.9213507 , -1.8627318 , -1.8098923 ,\n",
       "       -1.7616704 , -1.7172282 , -1.6759397 , -1.6373254 , -1.6010087 ,\n",
       "       -1.5666885 , -1.5341206 , -1.5031029 , -1.4734676 , -1.4450725 ,\n",
       "       -1.4177971 , -1.3915375 , -1.3662038 , -1.3417178 , -1.3180109 ,\n",
       "       -1.2950224 , -1.2726986 , -1.2509917 , -1.2298588 , -1.2092612 ,\n",
       "       -1.1891644 , -1.1695366 , -1.1503494 , -1.1315765 , -1.1131942 ,\n",
       "       -1.0951806 , -1.0775156 , -1.0601804 , -1.0431583 , -1.0264331 ,\n",
       "       -1.0099902 , -0.9938159 , -0.9778975 , -0.9622232 , -0.94678175,\n",
       "       -0.93156284, -0.91655666, -0.90175414, -0.88714653, -0.8727259 ,\n",
       "       -0.85848445, -0.84441507, -0.83051085, -0.8167654 , -0.8031726 ,\n",
       "       -0.7897265 , -0.7764218 , -0.76325303, -0.75021535, -0.737304  ,\n",
       "       -0.72451437, -0.7118422 , -0.6992833 , -0.68683374, -0.67448974,\n",
       "       -0.66224766, -0.65010405, -0.63805556, -0.626099  , -0.6142313 ,\n",
       "       -0.6024495 , -0.59075063, -0.57913214, -0.5675913 , -0.5561256 ,\n",
       "       -0.5447325 , -0.5334097 , -0.52215487, -0.5109658 , -0.49984035,\n",
       "       -0.48877642, -0.477772  , -0.46682513, -0.45593393, -0.44509652,\n",
       "       -0.43431115, -0.4235761 , -0.4128896 , -0.40225005, -0.39165586,\n",
       "       -0.38110545, -0.3705973 , -0.3601299 , -0.3497018 , -0.3393116 ,\n",
       "       -0.32895792, -0.31863937, -0.30835465, -0.2981024 , -0.28788143,\n",
       "       -0.27769044, -0.2675282 , -0.25739354, -0.24728522, -0.23720211,\n",
       "       -0.22714306, -0.21710695, -0.20709266, -0.19709909, -0.18712516,\n",
       "       -0.17716981, -0.167232  , -0.15731068, -0.14740482, -0.1375134 ,\n",
       "       -0.12763542, -0.11776987, -0.10791578, -0.09807215, -0.08823802,\n",
       "       -0.07841241, -0.06859437, -0.05878294, -0.04897716, -0.03917608,\n",
       "       -0.02937878, -0.01958429, -0.00979167,  0.        ,  0.00979167,\n",
       "        0.01958429,  0.02937878,  0.03917608,  0.04897716,  0.05878294,\n",
       "        0.06859437,  0.07841241,  0.08823802,  0.09807215,  0.10791578,\n",
       "        0.11776987,  0.12763542,  0.1375134 ,  0.14740482,  0.15731068,\n",
       "        0.167232  ,  0.17716981,  0.18712516,  0.19709909,  0.20709266,\n",
       "        0.21710695,  0.22714306,  0.23720211,  0.24728522,  0.25739354,\n",
       "        0.2675282 ,  0.27769044,  0.28788143,  0.2981024 ,  0.30835465,\n",
       "        0.31863937,  0.32895792,  0.3393116 ,  0.3497018 ,  0.3601299 ,\n",
       "        0.3705973 ,  0.38110545,  0.39165586,  0.40225005,  0.4128896 ,\n",
       "        0.4235761 ,  0.43431115,  0.44509652,  0.45593393,  0.46682513,\n",
       "        0.477772  ,  0.48877642,  0.49984035,  0.5109658 ,  0.52215487,\n",
       "        0.5334097 ,  0.5447325 ,  0.5561256 ,  0.5675913 ,  0.57913214,\n",
       "        0.59075063,  0.6024495 ,  0.6142313 ,  0.626099  ,  0.63805556,\n",
       "        0.65010405,  0.66224766,  0.67448974,  0.68683374,  0.6992833 ,\n",
       "        0.7118422 ,  0.72451437,  0.737304  ,  0.75021535,  0.76325303,\n",
       "        0.7764218 ,  0.7897265 ,  0.8031726 ,  0.8167654 ,  0.83051085,\n",
       "        0.84441507,  0.85848445,  0.8727259 ,  0.88714653,  0.90175414,\n",
       "        0.91655666,  0.93156284,  0.94678175,  0.9622232 ,  0.9778975 ,\n",
       "        0.9938159 ,  1.0099902 ,  1.0264331 ,  1.0431583 ,  1.0601804 ,\n",
       "        1.0775156 ,  1.0951806 ,  1.1131942 ,  1.1315765 ,  1.1503494 ,\n",
       "        1.1695366 ,  1.1891644 ,  1.2092612 ,  1.2298588 ,  1.2509917 ,\n",
       "        1.2726986 ,  1.2950224 ,  1.3180109 ,  1.3417178 ,  1.3662038 ,\n",
       "        1.3915375 ,  1.4177971 ,  1.4450725 ,  1.4734676 ,  1.5031029 ,\n",
       "        1.5341206 ,  1.5666885 ,  1.6010087 ,  1.6373254 ,  1.6759397 ,\n",
       "        1.7172282 ,  1.7616704 ,  1.8098923 ,  1.8627318 ,  1.9213507 ,\n",
       "        1.9874278 ,  2.0635278 ,  2.1538746 ,  2.2662268 ,  2.417559  ,\n",
       "        2.6600676 ,         inf], dtype=float32)"
      ]
     },
     "execution_count": 214,
     "metadata": {},
     "output_type": "execute_result"
    }
   ],
   "source": [
    "x"
   ]
  },
  {
   "cell_type": "code",
   "execution_count": 215,
   "metadata": {},
   "outputs": [
    {
     "data": {
      "text/plain": [
       "[<matplotlib.lines.Line2D at 0x7f949ba8ee50>]"
      ]
     },
     "execution_count": 215,
     "metadata": {},
     "output_type": "execute_result"
    },
    {
     "data": {
      "image/png": "[encoded data removed]",
      "text/plain": [
       "<Figure size 432x288 with 1 Axes>"
      ]
     },
     "metadata": {
      "needs_background": "light"
     },
     "output_type": "display_data"
    }
   ],
   "source": [
    "plt.plot(x)"
   ]
  },
  {
   "cell_type": "code",
   "execution_count": 216,
   "metadata": {},
   "outputs": [
    {
     "data": {
      "text/plain": [
       "0.4008764"
      ]
     },
     "execution_count": 216,
     "metadata": {},
     "output_type": "execute_result"
    }
   ],
   "source": [
    "post_mean[0]"
   ]
  },
  {
   "cell_type": "code",
   "execution_count": 217,
   "metadata": {},
   "outputs": [
    {
     "data": {
      "text/plain": [
       "0.9930004"
      ]
     },
     "execution_count": 217,
     "metadata": {},
     "output_type": "execute_result"
    }
   ],
   "source": [
    "post_stdd[1]"
   ]
  },
  {
   "cell_type": "code",
   "execution_count": 218,
   "metadata": {},
   "outputs": [
    {
     "data": {
      "text/plain": [
       "[<matplotlib.lines.Line2D at 0x7f949a83b810>]"
      ]
     },
     "execution_count": 218,
     "metadata": {},
     "output_type": "execute_result"
    },
    {
     "data": {
      "image/png": "[encoded data removed]",
      "text/plain": [
       "<Figure size 432x288 with 1 Axes>"
      ]
     },
     "metadata": {
      "needs_background": "light"
     },
     "output_type": "display_data"
    }
   ],
   "source": [
    "plt.plot(x)"
   ]
  },
  {
   "cell_type": "markdown",
   "metadata": {},
   "source": [
    "# So the bucket range is -2.7 to 2.7, which is mapped to 0 - 256"
   ]
  },
  {
   "cell_type": "code",
   "execution_count": 219,
   "metadata": {},
   "outputs": [
    {
     "data": {
      "text/plain": [
       "[<matplotlib.lines.Line2D at 0x7f949b516690>]"
      ]
     },
     "execution_count": 219,
     "metadata": {},
     "output_type": "execute_result"
    },
    {
     "data": {
      "image/png": "[encoded data removed]",
      "text/plain": [
       "<Figure size 432x288 with 1 Axes>"
      ]
     },
     "metadata": {
      "needs_background": "light"
     },
     "output_type": "display_data"
    }
   ],
   "source": [
    "plt.plot(norm.pdf(np.linspace(-3,3,256),0,1))"
   ]
  },
  {
   "cell_type": "code",
   "execution_count": 220,
   "metadata": {},
   "outputs": [
    {
     "data": {
      "text/plain": [
       "[<matplotlib.lines.Line2D at 0x7f949b63aad0>]"
      ]
     },
     "execution_count": 220,
     "metadata": {},
     "output_type": "execute_result"
    },
    {
     "data": {
      "image/png": "[encoded data removed]",
      "text/plain": [
       "<Figure size 432x288 with 1 Axes>"
      ]
     },
     "metadata": {
      "needs_background": "light"
     },
     "output_type": "display_data"
    }
   ],
   "source": [
    "plt.plot(norm.pdf(x, 0, 1))"
   ]
  },
  {
   "cell_type": "code",
   "execution_count": 221,
   "metadata": {},
   "outputs": [
    {
     "data": {
      "text/plain": [
       "[<matplotlib.lines.Line2D at 0x7f949badc0d0>]"
      ]
     },
     "execution_count": 221,
     "metadata": {},
     "output_type": "execute_result"
    },
    {
     "data": {
      "image/png": "[encoded data removed]",
      "text/plain": [
       "<Figure size 432x288 with 1 Axes>"
      ]
     },
     "metadata": {
      "needs_background": "light"
     },
     "output_type": "display_data"
    }
   ],
   "source": [
    "plt.plot(norm.cdf(x, 0, 1))"
   ]
  },
  {
   "cell_type": "code",
   "execution_count": 222,
   "metadata": {},
   "outputs": [
    {
     "data": {
      "text/plain": [
       "4096"
      ]
     },
     "execution_count": 222,
     "metadata": {},
     "output_type": "execute_result"
    }
   ],
   "source": [
    "2**12"
   ]
  },
  {
   "cell_type": "markdown",
   "metadata": {},
   "source": [
    "# Mean and std per dim from encoder output"
   ]
  },
  {
   "cell_type": "code",
   "execution_count": 151,
   "metadata": {},
   "outputs": [
    {
     "data": {
      "image/png": "[encoded data removed]",
      "text/plain": [
       "<Figure size 1080x288 with 2 Axes>"
      ]
     },
     "metadata": {
      "needs_background": "light"
     },
     "output_type": "display_data"
    }
   ],
   "source": [
    "plt.figure(figsize=(15,4))\n",
    "plt.subplot(1,2,1)\n",
    "plt.stem(post_mean,use_line_collection=True)\n",
    "plt.subplot(1,2,2)\n",
    "plt.stem(post_stdd,use_line_collection=True)\n",
    "plt.show()"
   ]
  },
  {
   "cell_type": "code",
   "execution_count": 152,
   "metadata": {},
   "outputs": [
    {
     "data": {
      "text/plain": [
       "102.0"
      ]
     },
     "execution_count": 152,
     "metadata": {},
     "output_type": "execute_result"
    }
   ],
   "source": [
    "0.4*255"
   ]
  },
  {
   "cell_type": "code",
   "execution_count": 153,
   "metadata": {
    "scrolled": false
   },
   "outputs": [
    {
     "data": {
      "image/png": "[encoded data removed]",
      "text/plain": [
       "<Figure size 432x288 with 1 Axes>"
      ]
     },
     "metadata": {
      "needs_background": "light"
     },
     "output_type": "display_data"
    },
    {
     "data": {
      "image/png": "[encoded data removed]",
      "text/plain": [
       "<Figure size 432x288 with 1 Axes>"
      ]
     },
     "metadata": {
      "needs_background": "light"
     },
     "output_type": "display_data"
    },
    {
     "data": {
      "image/png": "[encoded data removed]",
      "text/plain": [
       "<Figure size 432x288 with 1 Axes>"
      ]
     },
     "metadata": {
      "needs_background": "light"
     },
     "output_type": "display_data"
    },
    {
     "data": {
      "image/png": "[encoded data removed]",
      "text/plain": [
       "<Figure size 432x288 with 1 Axes>"
      ]
     },
     "metadata": {
      "needs_background": "light"
     },
     "output_type": "display_data"
    },
    {
     "data": {
      "image/png": "[encoded data removed]",
      "text/plain": [
       "<Figure size 432x288 with 1 Axes>"
      ]
     },
     "metadata": {
      "needs_background": "light"
     },
     "output_type": "display_data"
    }
   ],
   "source": [
    "for i_cdf in range(5):\n",
    "    cdf_dist = [cdfs[i_cdf](i) for i in range(1<<prior_prec)]\n",
    "    plt.plot(range(1<<prior_prec),cdf_dist)\n",
    "    plt.title('mean: {:.2f}, std: {:.2f}'.format(post_mean[i_cdf], post_stdd[i_cdf]))\n",
    "    plt.show()"
   ]
  },
  {
   "cell_type": "code",
   "execution_count": 4,
   "metadata": {
    "scrolled": false
   },
   "outputs": [
    {
     "name": "stdout",
     "output_type": "stream",
     "text": [
      "img:  1\n",
      "appending data torch.Size([1, 784])\n"
     ]
    },
    {
     "name": "stderr",
     "output_type": "stream",
     "text": [
      "/home/reasatt/miniconda3/envs/bb/lib/python3.7/site-packages/torchvision/datasets/mnist.py:58: UserWarning: test_data has been renamed data\n",
      "  warnings.warn(\"test_data has been renamed data\")\n"
     ]
    },
    {
     "data": {
      "image/png": "[encoded data removed]",
      "text/plain": [
       "<Figure size 432x288 with 1 Axes>"
      ]
     },
     "metadata": {
      "needs_background": "light"
     },
     "output_type": "display_data"
    },
    {
     "name": "stdout",
     "output_type": "stream",
     "text": [
      "post_pop\n",
      "non_uni_pop: popped symbols shape (50,)\n",
      "[175, 192, 128, 11, 208, 254, 60, 244, 210, 70, 100, 252, 98, 222, 220, 178, 255, 174, 243, 44, 75, 244, 233, 85, 160, 207, 72, 182, 191, 103, 180, 180, 156, 215, 144, 101, 114, 126, 151, 83, 101, 246, 74, 52, 97, 27, 46, 88, 209, 36]\n",
      "lik_append\n",
      "input latent_idx (50,) [175 192 128  11 208 254  60 244 210  70 100 252  98 222 220 178 255 174\n",
      " 243  44  75 244 233  85 160 207  72 182 191 103 180 180 156 215 144 101\n",
      " 114 126 151  83 101 246  74  52  97  27  46  88 209  36]\n",
      "transformed the latent_idx through a generator to obs_params: \n",
      " 2 (1, 784) [3.9360025e-06 4.2631536e-06 2.2446438e-06 3.4886784e-06 1.5844681e-06\n",
      " 1.8692151e-06 2.4216470e-06 5.0185349e-06 2.6406731e-06 3.0660810e-06]\n",
      "beta_binomials_append: \n",
      "appending the obs_params\n",
      "a [3.9360025e-06 4.2631536e-06 2.2446438e-06 3.4886784e-06 1.5844681e-06\n",
      " 1.8692151e-06 2.4216470e-06 5.0185349e-06 2.6406731e-06 3.0660810e-06],\n",
      "b [150.72165  236.60295  155.4309   141.80083  142.39275  103.11921\n",
      " 122.28659  143.51003  110.280464 140.23576 ],\n",
      "n 255,\n",
      "precision 14:\n",
      "creating beta binomial probabilities from obs_params\n",
      " generate_beta_binomial_probs :  (1, 784, 256) [[9.99996071e-01 2.47991846e-06 7.80118889e-07 ... 1.00005591e-10\n",
      "  1.00005591e-10 1.00005591e-10]\n",
      " [9.99996854e-01 2.21584635e-06 5.74779391e-07 ... 1.00012115e-10\n",
      "  1.00012115e-10 1.00012115e-10]\n",
      " [9.99997792e-01 1.39799640e-06 4.34702528e-07 ... 1.00016444e-10\n",
      "  1.00016444e-10 1.00016444e-10]\n",
      " ...\n",
      " [9.99994839e-01 3.21958569e-06 1.03122092e-06 ... 9.99994839e-11\n",
      "  9.99994839e-11 9.99994839e-11]\n",
      " [9.99996806e-01 1.84849987e-06 6.46222757e-07 ... 9.99996806e-11\n",
      "  9.99996806e-11 9.99996806e-11]\n",
      " [9.99996792e-01 1.98319947e-06 6.40498978e-07 ... 1.00006110e-10\n",
      "  1.00006110e-10 1.00006110e-10]]\n",
      "categoricals_append:\n",
      "input probs  (1, 784, 256) [[9.99996071e-01 2.47991846e-06 7.80118889e-07 ... 1.00005591e-10\n",
      "  1.00005591e-10 1.00005591e-10]\n",
      " [9.99996854e-01 2.21584635e-06 5.74779391e-07 ... 1.00012115e-10\n",
      "  1.00012115e-10 1.00012115e-10]\n",
      " [9.99997792e-01 1.39799640e-06 4.34702528e-07 ... 1.00016444e-10\n",
      "  1.00016444e-10 1.00016444e-10]\n",
      " ...\n",
      " [9.99994839e-01 3.21958569e-06 1.03122092e-06 ... 9.99994839e-11\n",
      "  9.99994839e-11 9.99994839e-11]\n",
      " [9.99996806e-01 1.84849987e-06 6.46222757e-07 ... 9.99996806e-11\n",
      "  9.99996806e-11 9.99996806e-11]\n",
      " [9.99996792e-01 1.98319947e-06 6.40498978e-07 ... 1.00006110e-10\n",
      "  1.00006110e-10 1.00006110e-10]]\n",
      "probs after reshaping (784, 256)\n",
      "extracting cdf bucket creating functions from probs and passing it to non_uniform append\n",
      "cdfs (784,)\n",
      "categoricals_append-->append-->data\n"
     ]
    },
    {
     "data": {
      "image/png": "[encoded data removed]",
      "text/plain": [
       "<Figure size 432x288 with 1 Axes>"
      ]
     },
     "metadata": {
      "needs_background": "light"
     },
     "output_type": "display_data"
    },
    {
     "name": "stdout",
     "output_type": "stream",
     "text": [
      "non_uniforms_append input symbols (784,)\n",
      "[0 0 0 0 0 0 0 0 0 0 0 0 0 0 0 0 0 0 0 0 0 0 0 0 0 0 0 0 0 0 0 0 0 0 0 0 0\n",
      " 0 0 0 0 0 0 0 0 0 0 0 0 0]\n",
      "prior_append\n",
      "uniforms_append input symbols (50,)\n",
      "[175 192 128  11 208 254  60 244 210  70 100 252  98 222 220 178 255 174\n",
      " 243  44  75 244 233  85 160 207  72 182 191 103 180 180 156 215 144 101\n",
      " 114 126 151  83 101 246  74  52  97  27  46  88 209  36]\n",
      "Encoded 0\n",
      "state len:  79\n",
      "img:  2\n",
      "appending data torch.Size([1, 784])\n"
     ]
    },
    {
     "data": {
      "image/png": "[encoded data removed]",
      "text/plain": [
       "<Figure size 432x288 with 1 Axes>"
      ]
     },
     "metadata": {
      "needs_background": "light"
     },
     "output_type": "display_data"
    },
    {
     "name": "stdout",
     "output_type": "stream",
     "text": [
      "post_pop\n",
      "non_uni_pop: popped symbols shape (50,)\n",
      "[195, 89, 224, 157, 191, 226, 3, 26, 219, 20, 176, 67, 49, 126, 53, 186, 52, 29, 231, 22, 254, 14, 23, 201, 63, 239, 24, 221, 146, 35, 39, 205, 124, 198, 223, 84, 103, 28, 29, 57, 185, 17, 64, 248, 2, 188, 27, 103, 199, 98]\n",
      "lik_append\n",
      "input latent_idx (50,) [195  89 224 157 191 226   3  26 219  20 176  67  49 126  53 186  52  29\n",
      " 231  22 254  14  23 201  63 239  24 221 146  35  39 205 124 198 223  84\n",
      " 103  28  29  57 185  17  64 248   2 188  27 103 199  98]\n",
      "transformed the latent_idx through a generator to obs_params: \n",
      " 2 (1, 784) [3.7356308e-06 2.8188394e-06 3.1600591e-06 3.7988395e-06 2.7989845e-06\n",
      " 2.6446980e-06 3.1919224e-06 4.6196328e-06 5.8689966e-06 2.0081500e-06]\n",
      "beta_binomials_append: \n",
      "appending the obs_params\n",
      "a [3.7356308e-06 2.8188394e-06 3.1600591e-06 3.7988395e-06 2.7989845e-06\n",
      " 2.6446980e-06 3.1919224e-06 4.6196328e-06 5.8689966e-06 2.0081500e-06],\n",
      "b [106.96963  122.11796  156.00441  167.65395  218.34273  273.30334\n",
      " 149.09303  156.85782  122.12768  123.013954],\n",
      "n 255,\n",
      "precision 14:\n",
      "creating beta binomial probabilities from obs_params\n",
      " generate_beta_binomial_probs :  (1, 784, 256) [[9.99995411e-01 2.63895189e-06 9.31045613e-07 ... 1.00004794e-10\n",
      "  1.00004794e-10 1.00004794e-10]\n",
      " [9.99996790e-01 1.91126452e-06 6.47079868e-07 ... 9.99996790e-11\n",
      "  9.99996790e-11 9.99996790e-11]\n",
      " [9.99996908e-01 1.96550568e-06 6.10311294e-07 ... 9.99996908e-11\n",
      "  9.99996908e-11 9.99996908e-11]\n",
      " ...\n",
      " [9.99995508e-01 2.86721308e-06 8.88448937e-07 ... 9.99995508e-11\n",
      "  9.99995508e-11 9.99995508e-11]\n",
      " [9.99993343e-01 3.97902326e-06 1.34711180e-06 ... 9.99993343e-11\n",
      "  9.99993343e-11 9.99993343e-11]\n",
      " [9.99997716e-01 1.35834958e-06 4.58788143e-07 ... 9.99997716e-11\n",
      "  9.99997716e-11 9.99997716e-11]]\n",
      "categoricals_append:\n",
      "input probs  (1, 784, 256) [[9.99995411e-01 2.63895189e-06 9.31045613e-07 ... 1.00004794e-10\n",
      "  1.00004794e-10 1.00004794e-10]\n",
      " [9.99996790e-01 1.91126452e-06 6.47079868e-07 ... 9.99996790e-11\n",
      "  9.99996790e-11 9.99996790e-11]\n",
      " [9.99996908e-01 1.96550568e-06 6.10311294e-07 ... 9.99996908e-11\n",
      "  9.99996908e-11 9.99996908e-11]\n",
      " ...\n",
      " [9.99995508e-01 2.86721308e-06 8.88448937e-07 ... 9.99995508e-11\n",
      "  9.99995508e-11 9.99995508e-11]\n",
      " [9.99993343e-01 3.97902326e-06 1.34711180e-06 ... 9.99993343e-11\n",
      "  9.99993343e-11 9.99993343e-11]\n",
      " [9.99997716e-01 1.35834958e-06 4.58788143e-07 ... 9.99997716e-11\n",
      "  9.99997716e-11 9.99997716e-11]]\n",
      "probs after reshaping (784, 256)\n",
      "extracting cdf bucket creating functions from probs and passing it to non_uniform append\n",
      "cdfs (784,)\n",
      "categoricals_append-->append-->data\n"
     ]
    },
    {
     "data": {
      "image/png": "[encoded data removed]",
      "text/plain": [
       "<Figure size 432x288 with 1 Axes>"
      ]
     },
     "metadata": {
      "needs_background": "light"
     },
     "output_type": "display_data"
    },
    {
     "name": "stdout",
     "output_type": "stream",
     "text": [
      "non_uniforms_append input symbols (784,)\n",
      "[0 0 0 0 0 0 0 0 0 0 0 0 0 0 0 0 0 0 0 0 0 0 0 0 0 0 0 0 0 0 0 0 0 0 0 0 0\n",
      " 0 0 0 0 0 0 0 0 0 0 0 0 0]\n",
      "prior_append\n",
      "uniforms_append input symbols (50,)\n",
      "[195  89 224 157 191 226   3  26 219  20 176  67  49 126  53 186  52  29\n",
      " 231  22 254  14  23 201  63 239  24 221 146  35  39 205 124 198 223  84\n",
      " 103  28  29  57 185  17  64 248   2 188  27 103 199  98]\n",
      "state len:  118\n",
      "\n",
      "All encoded in 1.05s\n",
      "Used 2176 bits.\n",
      "This is 1.39 bits per pixel\n",
      "uni_pop: popped symbols shape (50,)\n",
      "[195, 89, 224, 157, 191, 226, 3, 26, 219, 20, 176, 67, 49, 126, 53, 186, 52, 29, 231, 22, 254, 14, 23, 201, 63, 239, 24, 221, 146, 35, 39, 205, 124, 198, 223, 84, 103, 28, 29, 57, 185, 17, 64, 248, 2, 188, 27, 103, 199, 98]\n",
      "non_uni_pop: popped symbols shape (784,)\n",
      "[0, 0, 0, 0, 0, 0, 0, 0, 0, 0, 0, 0, 0, 0, 0, 0, 0, 0, 0, 0, 0, 0, 0, 0, 0, 0, 0, 0, 0, 0, 0, 0, 0, 0, 0, 0, 0, 0, 0, 0, 0, 0, 0, 0, 0, 0, 0, 0, 0, 0]\n",
      "non_uniforms_append input symbols (50,)\n",
      "[195  89 224 157 191 226   3  26 219  20 176  67  49 126  53 186  52  29\n",
      " 231  22 254  14  23 201  63 239  24 221 146  35  39 205 124 198 223  84\n",
      " 103  28  29  57 185  17  64 248   2 188  27 103 199  98]\n",
      "Decoded 0\n",
      "uni_pop: popped symbols shape (50,)\n",
      "[175, 192, 128, 11, 208, 254, 60, 244, 210, 70, 100, 252, 98, 222, 220, 178, 255, 174, 243, 44, 75, 244, 233, 85, 160, 207, 72, 182, 191, 103, 180, 180, 156, 215, 144, 101, 114, 126, 151, 83, 101, 246, 74, 52, 97, 27, 46, 88, 209, 36]\n",
      "non_uni_pop: popped symbols shape (784,)\n",
      "[0, 0, 0, 0, 0, 0, 0, 0, 0, 0, 0, 0, 0, 0, 0, 0, 0, 0, 0, 0, 0, 0, 0, 0, 0, 0, 0, 0, 0, 0, 0, 0, 0, 0, 0, 0, 0, 0, 0, 0, 0, 0, 0, 0, 0, 0, 0, 0, 0, 0]\n",
      "non_uniforms_append input symbols (50,)\n",
      "[175 192 128  11 208 254  60 244 210  70 100 252  98 222 220 178 255 174\n",
      " 243  44  75 244 233  85 160 207  72 182 191 103 180 180 156 215 144 101\n",
      " 114 126 151  83 101 246  74  52  97  27  46  88 209  36]\n",
      "\n",
      "All decoded in 0.70s\n"
     ]
    }
   ],
   "source": [
    "print_interval = 10\n",
    "encode_start_time = time.time()\n",
    "for i, image in enumerate(images):\n",
    "    print('img: ',i+1)\n",
    "    state = vae_append(state, image)\n",
    "#     if i==2:\n",
    "#         break\n",
    "#     '''\n",
    "    if not i % print_interval:\n",
    "        print('Encoded {}'.format(i))\n",
    "    print('state len: ',len(rans.flatten(state)))\n",
    "    compressed_length = 32 * (len(rans.flatten(state)) - len(other_bits)) / (i+1)\n",
    "#     print('compressed_length_avg',compressed_length)\n",
    "    compress_lengths.append(compressed_length)\n",
    "\n",
    "print('\\nAll encoded in {:.2f}s'.format(time.time() - encode_start_time))\n",
    "compressed_message = rans.flatten(state)\n",
    "\n",
    "compressed_bits = 32 * (len(compressed_message) - len(other_bits))\n",
    "print(\"Used \" + str(compressed_bits) + \" bits.\")\n",
    "print('This is {:.2f} bits per pixel'.format(compressed_bits\n",
    "                                             / (num_images * 784)))\n",
    "\n",
    "if not os.path.exists('results'):\n",
    "    os.mkdir('results')\n",
    "np.savetxt('compressed_lengths_cts', np.array(compress_lengths))\n",
    "\n",
    "state = rans.unflatten(compressed_message)\n",
    "decode_start_time = time.time()\n",
    "\n",
    "for n in range(len(images)):\n",
    "    state, image_ = vae_pop(state)\n",
    "    original_image = images[len(images)-n-1].numpy()\n",
    "    np.testing.assert_allclose(original_image, image_)\n",
    "\n",
    "    if not n % print_interval:\n",
    "        print('Decoded {}'.format(n))\n",
    "\n",
    "print('\\nAll decoded in {:.2f}s'.format(time.time() - decode_start_time))\n",
    "\n",
    "recovered_bits = rans.flatten(state)\n",
    "assert all(other_bits == recovered_bits)\n",
    "# '''"
   ]
  },
  {
   "cell_type": "code",
   "execution_count": 11,
   "metadata": {},
   "outputs": [
    {
     "data": {
      "text/plain": [
       "tensor([[  0.,   0.,   0.,   0.,   0.,   0.,   0.,   0.,   0.,   0.,   0.,   0.,\n",
       "           0.,   0.,   0.,   0.,   0.,   0.,   0.,   0.,   0.,   0.,   0.,   0.,\n",
       "           0.,   0.,   0.,   0.,   0.,   0.,   0.,   0.,   0.,   0.,   0.,   0.,\n",
       "           0.,   0.,   0.,   0.,   0.,   0.,   0.,   0.,   0.,   0.,   0.,   0.,\n",
       "           0.,   0.,   0.,   0.,   0.,   0.,   0.,   0.,   0.,   0.,   0.,   0.,\n",
       "           0.,   0.,   0.,   0.,   0.,   0.,   0.,   0.,   0.,   0.,   0.,   0.,\n",
       "           0.,   0.,   0.,   0.,   0.,   0.,   0.,   0.,   0.,   0.,   0.,   0.,\n",
       "           0.,   0.,   0.,   0.,   0.,   0.,   0.,   0.,   0.,   0.,   0.,   0.,\n",
       "           0.,   0.,   0.,   0.,   0.,   0.,   0.,   0.,   0.,   0.,   0.,   0.,\n",
       "           0.,   0.,   0.,   0.,   0.,   0.,   0.,   0.,   0.,   0.,   0.,   0.,\n",
       "           0.,   0.,   0.,   0.,   0.,   0.,   0.,   0.,   0.,   0.,   0.,   0.,\n",
       "           0.,   0.,   0.,   0.,   0.,   0.,   0.,   0.,   0.,   0.,   0.,   0.,\n",
       "           0.,   0.,   0.,   0.,   0.,   0.,   0.,   0.,   0.,   0.,   0.,   0.,\n",
       "           0.,   0.,   0.,   0.,   0.,   0.,   0.,   0.,   0.,   0.,   0.,   0.,\n",
       "           0.,   0.,   0.,   0.,   0.,   0.,   0.,   0.,   0.,   0.,   0.,   0.,\n",
       "           0.,   0.,   0.,   0.,   0.,   0.,   0.,   0.,   0.,   0.,   0.,   0.,\n",
       "           0.,   0.,   0.,   0.,   0.,   0.,   0.,   0.,   0.,   0.,  84., 185.,\n",
       "         159., 151.,  60.,  36.,   0.,   0.,   0.,   0.,   0.,   0.,   0.,   0.,\n",
       "           0.,   0.,   0.,   0.,   0.,   0.,   0.,   0.,   0.,   0.,   0.,   0.,\n",
       "           0.,   0., 222., 254., 254., 254., 254., 241., 198., 198., 198., 198.,\n",
       "         198., 198., 198., 198., 170.,  52.,   0.,   0.,   0.,   0.,   0.,   0.,\n",
       "           0.,   0.,   0.,   0.,   0.,   0.,  67., 114.,  72., 114., 163., 227.,\n",
       "         254., 225., 254., 254., 254., 250., 229., 254., 254., 140.,   0.,   0.,\n",
       "           0.,   0.,   0.,   0.,   0.,   0.,   0.,   0.,   0.,   0.,   0.,   0.,\n",
       "           0.,   0.,   0.,  17.,  66.,  14.,  67.,  67.,  67.,  59.,  21., 236.,\n",
       "         254., 106.,   0.,   0.,   0.,   0.,   0.,   0.,   0.,   0.,   0.,   0.,\n",
       "           0.,   0.,   0.,   0.,   0.,   0.,   0.,   0.,   0.,   0.,   0.,   0.,\n",
       "           0.,   0.,  83., 253., 209.,  18.,   0.,   0.,   0.,   0.,   0.,   0.,\n",
       "           0.,   0.,   0.,   0.,   0.,   0.,   0.,   0.,   0.,   0.,   0.,   0.,\n",
       "           0.,   0.,   0.,   0.,   0.,  22., 233., 255.,  83.,   0.,   0.,   0.,\n",
       "           0.,   0.,   0.,   0.,   0.,   0.,   0.,   0.,   0.,   0.,   0.,   0.,\n",
       "           0.,   0.,   0.,   0.,   0.,   0.,   0.,   0.,   0., 129., 254., 238.,\n",
       "          44.,   0.,   0.,   0.,   0.,   0.,   0.,   0.,   0.,   0.,   0.,   0.,\n",
       "           0.,   0.,   0.,   0.,   0.,   0.,   0.,   0.,   0.,   0.,   0.,   0.,\n",
       "          59., 249., 254.,  62.,   0.,   0.,   0.,   0.,   0.,   0.,   0.,   0.,\n",
       "           0.,   0.,   0.,   0.,   0.,   0.,   0.,   0.,   0.,   0.,   0.,   0.,\n",
       "           0.,   0.,   0.,   0., 133., 254., 187.,   5.,   0.,   0.,   0.,   0.,\n",
       "           0.,   0.,   0.,   0.,   0.,   0.,   0.,   0.,   0.,   0.,   0.,   0.,\n",
       "           0.,   0.,   0.,   0.,   0.,   0.,   0.,   9., 205., 248.,  58.,   0.,\n",
       "           0.,   0.,   0.,   0.,   0.,   0.,   0.,   0.,   0.,   0.,   0.,   0.,\n",
       "           0.,   0.,   0.,   0.,   0.,   0.,   0.,   0.,   0.,   0.,   0., 126.,\n",
       "         254., 182.,   0.,   0.,   0.,   0.,   0.,   0.,   0.,   0.,   0.,   0.,\n",
       "           0.,   0.,   0.,   0.,   0.,   0.,   0.,   0.,   0.,   0.,   0.,   0.,\n",
       "           0.,   0.,  75., 251., 240.,  57.,   0.,   0.,   0.,   0.,   0.,   0.,\n",
       "           0.,   0.,   0.,   0.,   0.,   0.,   0.,   0.,   0.,   0.,   0.,   0.,\n",
       "           0.,   0.,   0.,   0.,   0.,  19., 221., 254., 166.,   0.,   0.,   0.,\n",
       "           0.,   0.,   0.,   0.,   0.,   0.,   0.,   0.,   0.,   0.,   0.,   0.,\n",
       "           0.,   0.,   0.,   0.,   0.,   0.,   0.,   0.,   3., 203., 254., 219.,\n",
       "          35.,   0.,   0.,   0.,   0.,   0.,   0.,   0.,   0.,   0.,   0.,   0.,\n",
       "           0.,   0.,   0.,   0.,   0.,   0.,   0.,   0.,   0.,   0.,   0.,   0.,\n",
       "          38., 254., 254.,  77.,   0.,   0.,   0.,   0.,   0.,   0.,   0.,   0.,\n",
       "           0.,   0.,   0.,   0.,   0.,   0.,   0.,   0.,   0.,   0.,   0.,   0.,\n",
       "           0.,   0.,   0.,  31., 224., 254., 115.,   1.,   0.,   0.,   0.,   0.,\n",
       "           0.,   0.,   0.,   0.,   0.,   0.,   0.,   0.,   0.,   0.,   0.,   0.,\n",
       "           0.,   0.,   0.,   0.,   0.,   0.,   0., 133., 254., 254.,  52.,   0.,\n",
       "           0.,   0.,   0.,   0.,   0.,   0.,   0.,   0.,   0.,   0.,   0.,   0.,\n",
       "           0.,   0.,   0.,   0.,   0.,   0.,   0.,   0.,   0.,   0.,  61., 242.,\n",
       "         254., 254.,  52.,   0.,   0.,   0.,   0.,   0.,   0.,   0.,   0.,   0.,\n",
       "           0.,   0.,   0.,   0.,   0.,   0.,   0.,   0.,   0.,   0.,   0.,   0.,\n",
       "           0.,   0., 121., 254., 254., 219.,  40.,   0.,   0.,   0.,   0.,   0.,\n",
       "           0.,   0.,   0.,   0.,   0.,   0.,   0.,   0.,   0.,   0.,   0.,   0.,\n",
       "           0.,   0.,   0.,   0.,   0.,   0., 121., 254., 207.,  18.,   0.,   0.,\n",
       "           0.,   0.,   0.,   0.,   0.,   0.,   0.,   0.,   0.,   0.,   0.,   0.,\n",
       "           0.,   0.,   0.,   0.,   0.,   0.,   0.,   0.,   0.,   0.,   0.,   0.,\n",
       "           0.,   0.,   0.,   0.,   0.,   0.,   0.,   0.,   0.,   0.,   0.,   0.,\n",
       "           0.,   0.,   0.,   0.]])"
      ]
     },
     "execution_count": 11,
     "metadata": {},
     "output_type": "execute_result"
    }
   ],
   "source": [
    "image_"
   ]
  },
  {
   "cell_type": "code",
   "execution_count": 12,
   "metadata": {},
   "outputs": [
    {
     "data": {
      "text/plain": [
       "array([[  0.,   0.,   0.,   0.,   0.,   0.,   0.,   0.,   0.,   0.,   0.,\n",
       "          0.,   0.,   0.,   0.,   0.,   0.,   0.,   0.,   0.,   0.,   0.,\n",
       "          0.,   0.,   0.,   0.,   0.,   0.,   0.,   0.,   0.,   0.,   0.,\n",
       "          0.,   0.,   0.,   0.,   0.,   0.,   0.,   0.,   0.,   0.,   0.,\n",
       "          0.,   0.,   0.,   0.,   0.,   0.,   0.,   0.,   0.,   0.,   0.,\n",
       "          0.,   0.,   0.,   0.,   0.,   0.,   0.,   0.,   0.,   0.,   0.,\n",
       "          0.,   0.,   0.,   0.,   0.,   0.,   0.,   0.,   0.,   0.,   0.,\n",
       "          0.,   0.,   0.,   0.,   0.,   0.,   0.,   0.,   0.,   0.,   0.,\n",
       "          0.,   0.,   0.,   0.,   0.,   0.,   0.,   0.,   0.,   0.,   0.,\n",
       "          0.,   0.,   0.,   0.,   0.,   0.,   0.,   0.,   0.,   0.,   0.,\n",
       "          0.,   0.,   0.,   0.,   0.,   0.,   0.,   0.,   0.,   0.,   0.,\n",
       "          0.,   0.,   0.,   0.,   0.,   0.,   0.,   0.,   0.,   0.,   0.,\n",
       "          0.,   0.,   0.,   0.,   0.,   0.,   0.,   0.,   0.,   0.,   0.,\n",
       "          0.,   0.,   0.,   0.,   0.,   0.,   0.,   0.,   0.,   0.,   0.,\n",
       "          0.,   0.,   0.,   0.,   0.,   0.,   0.,   0.,   0.,   0.,   0.,\n",
       "          0.,   0.,   0.,   0.,   0.,   0.,   0.,   0.,   0.,   0.,   0.,\n",
       "          0.,   0.,   0.,   0.,   0.,   0.,   0.,   0.,   0.,   0.,   0.,\n",
       "          0.,   0.,   0.,   0.,   0.,   0.,   0.,   0.,   0.,   0.,   0.,\n",
       "          0.,   0.,   0.,   0.,  84., 185., 159., 151.,  60.,  36.,   0.,\n",
       "          0.,   0.,   0.,   0.,   0.,   0.,   0.,   0.,   0.,   0.,   0.,\n",
       "          0.,   0.,   0.,   0.,   0.,   0.,   0.,   0.,   0.,   0., 222.,\n",
       "        254., 254., 254., 254., 241., 198., 198., 198., 198., 198., 198.,\n",
       "        198., 198., 170.,  52.,   0.,   0.,   0.,   0.,   0.,   0.,   0.,\n",
       "          0.,   0.,   0.,   0.,   0.,  67., 114.,  72., 114., 163., 227.,\n",
       "        254., 225., 254., 254., 254., 250., 229., 254., 254., 140.,   0.,\n",
       "          0.,   0.,   0.,   0.,   0.,   0.,   0.,   0.,   0.,   0.,   0.,\n",
       "          0.,   0.,   0.,   0.,   0.,  17.,  66.,  14.,  67.,  67.,  67.,\n",
       "         59.,  21., 236., 254., 106.,   0.,   0.,   0.,   0.,   0.,   0.,\n",
       "          0.,   0.,   0.,   0.,   0.,   0.,   0.,   0.,   0.,   0.,   0.,\n",
       "          0.,   0.,   0.,   0.,   0.,   0.,   0.,  83., 253., 209.,  18.,\n",
       "          0.,   0.,   0.,   0.,   0.,   0.,   0.,   0.,   0.,   0.,   0.,\n",
       "          0.,   0.,   0.,   0.,   0.,   0.,   0.,   0.,   0.,   0.,   0.,\n",
       "          0.,  22., 233., 255.,  83.,   0.,   0.,   0.,   0.,   0.,   0.,\n",
       "          0.,   0.,   0.,   0.,   0.,   0.,   0.,   0.,   0.,   0.,   0.,\n",
       "          0.,   0.,   0.,   0.,   0.,   0.,   0., 129., 254., 238.,  44.,\n",
       "          0.,   0.,   0.,   0.,   0.,   0.,   0.,   0.,   0.,   0.,   0.,\n",
       "          0.,   0.,   0.,   0.,   0.,   0.,   0.,   0.,   0.,   0.,   0.,\n",
       "          0.,  59., 249., 254.,  62.,   0.,   0.,   0.,   0.,   0.,   0.,\n",
       "          0.,   0.,   0.,   0.,   0.,   0.,   0.,   0.,   0.,   0.,   0.,\n",
       "          0.,   0.,   0.,   0.,   0.,   0.,   0., 133., 254., 187.,   5.,\n",
       "          0.,   0.,   0.,   0.,   0.,   0.,   0.,   0.,   0.,   0.,   0.,\n",
       "          0.,   0.,   0.,   0.,   0.,   0.,   0.,   0.,   0.,   0.,   0.,\n",
       "          0.,   9., 205., 248.,  58.,   0.,   0.,   0.,   0.,   0.,   0.,\n",
       "          0.,   0.,   0.,   0.,   0.,   0.,   0.,   0.,   0.,   0.,   0.,\n",
       "          0.,   0.,   0.,   0.,   0.,   0.,   0., 126., 254., 182.,   0.,\n",
       "          0.,   0.,   0.,   0.,   0.,   0.,   0.,   0.,   0.,   0.,   0.,\n",
       "          0.,   0.,   0.,   0.,   0.,   0.,   0.,   0.,   0.,   0.,   0.,\n",
       "          0.,  75., 251., 240.,  57.,   0.,   0.,   0.,   0.,   0.,   0.,\n",
       "          0.,   0.,   0.,   0.,   0.,   0.,   0.,   0.,   0.,   0.,   0.,\n",
       "          0.,   0.,   0.,   0.,   0.,   0.,  19., 221., 254., 166.,   0.,\n",
       "          0.,   0.,   0.,   0.,   0.,   0.,   0.,   0.,   0.,   0.,   0.,\n",
       "          0.,   0.,   0.,   0.,   0.,   0.,   0.,   0.,   0.,   0.,   0.,\n",
       "          3., 203., 254., 219.,  35.,   0.,   0.,   0.,   0.,   0.,   0.,\n",
       "          0.,   0.,   0.,   0.,   0.,   0.,   0.,   0.,   0.,   0.,   0.,\n",
       "          0.,   0.,   0.,   0.,   0.,   0.,  38., 254., 254.,  77.,   0.,\n",
       "          0.,   0.,   0.,   0.,   0.,   0.,   0.,   0.,   0.,   0.,   0.,\n",
       "          0.,   0.,   0.,   0.,   0.,   0.,   0.,   0.,   0.,   0.,   0.,\n",
       "         31., 224., 254., 115.,   1.,   0.,   0.,   0.,   0.,   0.,   0.,\n",
       "          0.,   0.,   0.,   0.,   0.,   0.,   0.,   0.,   0.,   0.,   0.,\n",
       "          0.,   0.,   0.,   0.,   0.,   0., 133., 254., 254.,  52.,   0.,\n",
       "          0.,   0.,   0.,   0.,   0.,   0.,   0.,   0.,   0.,   0.,   0.,\n",
       "          0.,   0.,   0.,   0.,   0.,   0.,   0.,   0.,   0.,   0.,   0.,\n",
       "         61., 242., 254., 254.,  52.,   0.,   0.,   0.,   0.,   0.,   0.,\n",
       "          0.,   0.,   0.,   0.,   0.,   0.,   0.,   0.,   0.,   0.,   0.,\n",
       "          0.,   0.,   0.,   0.,   0.,   0., 121., 254., 254., 219.,  40.,\n",
       "          0.,   0.,   0.,   0.,   0.,   0.,   0.,   0.,   0.,   0.,   0.,\n",
       "          0.,   0.,   0.,   0.,   0.,   0.,   0.,   0.,   0.,   0.,   0.,\n",
       "          0., 121., 254., 207.,  18.,   0.,   0.,   0.,   0.,   0.,   0.,\n",
       "          0.,   0.,   0.,   0.,   0.,   0.,   0.,   0.,   0.,   0.,   0.,\n",
       "          0.,   0.,   0.,   0.,   0.,   0.,   0.,   0.,   0.,   0.,   0.,\n",
       "          0.,   0.,   0.,   0.,   0.,   0.,   0.,   0.,   0.,   0.,   0.,\n",
       "          0.,   0.,   0.]], dtype=float32)"
      ]
     },
     "execution_count": 12,
     "metadata": {},
     "output_type": "execute_result"
    }
   ],
   "source": [
    "original_image"
   ]
  },
  {
   "cell_type": "code",
   "execution_count": 5,
   "metadata": {},
   "outputs": [
    {
     "data": {
      "text/plain": [
       "(900731659723581999,\n",
       " (924296821,\n",
       "  (1478675648,\n",
       "   (441430851,\n",
       "    (1537430267,\n",
       "     (192837315,\n",
       "      (1491500391,\n",
       "       (1819649033,\n",
       "        (530767571,\n",
       "         (626675989,\n",
       "          (1650972402,\n",
       "           (1879488292,\n",
       "            (1277966935,\n",
       "             (1682717766,\n",
       "              (243645912,\n",
       "               (1991481944,\n",
       "                (1171115404,\n",
       "                 (1646934330,\n",
       "                  (2051621569,\n",
       "                   (1253015014,\n",
       "                    (1340820007,\n",
       "                     (124168279,\n",
       "                      (2061551790,\n",
       "                       (292314712,\n",
       "                        (1687063377,\n",
       "                         (1827989157,\n",
       "                          (1443512857,\n",
       "                           (305163085,\n",
       "                            (1449171016,\n",
       "                             (374283017,\n",
       "                              (636458900,\n",
       "                               (86902899,\n",
       "                                (1581650896,\n",
       "                                 (1428656883,\n",
       "                                  (1963531973,\n",
       "                                   (1194739710,\n",
       "                                    (602867535,\n",
       "                                     (1589255599,\n",
       "                                      (1589578176,\n",
       "                                       (2055715666,\n",
       "                                        (2034196579,\n",
       "                                         (1284941784,\n",
       "                                          (1292467377,\n",
       "                                           (1982104307,\n",
       "                                            (88015645,\n",
       "                                             (1204929171,\n",
       "                                              (768347283,\n",
       "                                               (508050318,\n",
       "                                                (947675559,\n",
       "                                                 ())))))))))))))))))))))))))))))))))))))))))))))))))"
      ]
     },
     "execution_count": 5,
     "metadata": {},
     "output_type": "execute_result"
    }
   ],
   "source": [
    "state"
   ]
  },
  {
   "cell_type": "code",
   "execution_count": 6,
   "metadata": {},
   "outputs": [
    {
     "data": {
      "text/plain": [
       "<matplotlib.image.AxesImage at 0x7f398cfe3a50>"
      ]
     },
     "execution_count": 6,
     "metadata": {},
     "output_type": "execute_result"
    },
    {
     "data": {
      "image/png": "[encoded data removed]",
      "text/plain": [
       "<Figure size 432x288 with 1 Axes>"
      ]
     },
     "metadata": {
      "needs_background": "light"
     },
     "output_type": "display_data"
    }
   ],
   "source": [
    "plt.imshow(image.reshape(28,28))"
   ]
  },
  {
   "cell_type": "code",
   "execution_count": 7,
   "metadata": {},
   "outputs": [],
   "source": [
    "uniform_enc_statfun = lambda s: (s, 1)"
   ]
  },
  {
   "cell_type": "code",
   "execution_count": 8,
   "metadata": {},
   "outputs": [
    {
     "data": {
      "text/plain": [
       "(3, 1)"
      ]
     },
     "execution_count": 8,
     "metadata": {},
     "output_type": "execute_result"
    }
   ],
   "source": [
    "uniform_enc_statfun(3)"
   ]
  },
  {
   "cell_type": "code",
   "execution_count": 9,
   "metadata": {},
   "outputs": [],
   "source": [
    "uniform_dec_statfun = lambda cf: (cf, (cf, 1))"
   ]
  },
  {
   "cell_type": "code",
   "execution_count": 10,
   "metadata": {},
   "outputs": [
    {
     "data": {
      "text/plain": [
       "(3, (3, 1))"
      ]
     },
     "execution_count": 10,
     "metadata": {},
     "output_type": "execute_result"
    }
   ],
   "source": [
    "uniform_dec_statfun(3)"
   ]
  }
 ],
 "metadata": {
  "kernelspec": {
   "display_name": "Python 3",
   "language": "python",
   "name": "python3"
  },
  "language_info": {
   "codemirror_mode": {
    "name": "ipython",
    "version": 3
   },
   "file_extension": ".py",
   "mimetype": "text/x-python",
   "name": "python",
   "nbconvert_exporter": "python",
   "pygments_lexer": "ipython3",
   "version": "3.7.6"
  }
 },
 "nbformat": 4,
 "nbformat_minor": 2
}
