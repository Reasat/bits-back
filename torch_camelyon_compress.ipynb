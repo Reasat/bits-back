{
 "cells": [
  {
   "cell_type": "code",
   "execution_count": 19,
   "metadata": {},
   "outputs": [],
   "source": [
    "import os\n",
    "import torch\n",
    "import numpy as np\n",
    "import util\n",
    "import rans\n",
    "from torch_vae.tvae_beta_binomial import BetaBinomialVAE\n",
    "from torch_vae import tvae_utils\n",
    "from torchvision import datasets, transforms\n",
    "import torch.nn as nn\n",
    "import time\n",
    "import matplotlib.pyplot as plt"
   ]
  },
  {
   "cell_type": "code",
   "execution_count": 20,
   "metadata": {},
   "outputs": [],
   "source": [
    "rng = np.random.RandomState(0)\n",
    "np.seterr(over='raise')\n",
    "\n",
    "prior_precision = 8\n",
    "obs_precision = 14\n",
    "q_precision = 14\n",
    "\n",
    "num_images = 100\n",
    "\n",
    "compress_lengths = []\n",
    "\n",
    "latent_dim = 3*50\n",
    "latent_shape = (1, latent_dim)"
   ]
  },
  {
   "cell_type": "code",
   "execution_count": 21,
   "metadata": {},
   "outputs": [],
   "source": [
    "def beta_binomial_log_pdf(k, n, alpha, beta):\n",
    "    numer = lgamma(n+1) + lgamma(k + alpha) + lgamma(n - k + beta) + lgamma(alpha + beta)\n",
    "    denom = lgamma(k+1) + lgamma(n - k + 1) + lgamma(n + alpha + beta) + lgamma(alpha) + lgamma(beta)\n",
    "    return numer - denom\n",
    "\n",
    "\n",
    "class BetaBinomialVAE(nn.Module):\n",
    "    def __init__(self, hidden_dim=3*200, latent_dim=3*50):\n",
    "        super().__init__()\n",
    "        self.hidden_dim = hidden_dim\n",
    "        self.latent_dim = latent_dim\n",
    "        self.inp_size = 28*28\n",
    "\n",
    "        self.register_buffer('prior_mean', torch.zeros(1))\n",
    "        self.register_buffer('prior_std', torch.ones(1))\n",
    "        self.register_buffer('n', torch.ones(100, self.inp_size) * 255.)\n",
    "        # increase the dimension constant if batchSize greater then constant\n",
    "\n",
    "        self.fc1 = nn.Linear(self.inp_size, self.hidden_dim)\n",
    "        self.bn1 = nn.BatchNorm1d(self.hidden_dim)\n",
    "        self.fc2 = nn.Linear(self.hidden_dim, self.hidden_dim)\n",
    "        self.bn2 = nn.BatchNorm1d(self.hidden_dim)\n",
    "\n",
    "\n",
    "        self.fc21 = nn.Linear(self.hidden_dim, self.latent_dim)\n",
    "        self.fc22 = nn.Linear(self.hidden_dim, self.latent_dim)\n",
    "        self.bn21 = nn.BatchNorm1d(self.latent_dim)\n",
    "        self.bn22 = nn.BatchNorm1d(self.latent_dim)\n",
    "\n",
    "        self.fc3 = nn.Linear(self.latent_dim, self.hidden_dim)\n",
    "        self.bn3 = nn.BatchNorm1d(self.hidden_dim)\n",
    "        self.fc4 = nn.Linear(self.hidden_dim, self.inp_size*2)\n",
    "\n",
    "    def encode(self, x):\n",
    "        \"\"\"Return mu, sigma on latent\"\"\"\n",
    "        h = x / 255.  # otherwise we will have numerical issues        \n",
    "        h = F.relu(self.bn1(self.fc1(h)))\n",
    "        h = F.relu(self.bn2(self.fc2(h)))\n",
    "        return self.bn21(self.fc21(h)), torch.exp(self.bn22(self.fc22(h)))\n",
    "\n",
    "    def reparameterize(self, mu, std):\n",
    "        if self.training:\n",
    "            eps = torch.randn_like(std)\n",
    "            return eps.mul(std).add_(mu)\n",
    "        else:\n",
    "            return mu\n",
    "\n",
    "    def decode(self, z):\n",
    "        h = F.relu(self.bn3(self.fc3(z)))\n",
    "        h = self.fc4(h)\n",
    "        log_alpha, log_beta = torch.split(h, self.inp_size, dim=1)\n",
    "        return torch.exp(log_alpha), torch.exp(log_beta)\n",
    "\n",
    "    def loss(self, x):\n",
    "        z_mu, z_std = self.encode(x.view(-1, self.inp_size))\n",
    "        z = self.reparameterize(z_mu, z_std)  # sample zs\n",
    "\n",
    "        x_alpha, x_beta = self.decode(z)\n",
    "#         print(x_alpha.shape, x_beta.shape)\n",
    "#         print(x.view(-1, self.inp_size).shape)\n",
    "#         print(self.n.shape, self.n)\n",
    "        l = beta_binomial_log_pdf(x.view(-1, self.inp_size), self.n[:x.shape[0]],\n",
    "                                  x_alpha, x_beta)\n",
    "#         print('l: ',l.shape)\n",
    "#         print('p_z: ',Normal(self.prior_mean, self.prior_std).log_prob(z).shape)\n",
    "        l = torch.sum(l, dim=1)\n",
    "        \n",
    "        p_z = torch.sum(Normal(self.prior_mean, self.prior_std).log_prob(z), dim=1)\n",
    "        q_z = torch.sum(Normal(z_mu, z_std).log_prob(z), dim=1)\n",
    "#         print('likelihood loss: {:.4f}'.format(-torch.mean(l) * np.log2(np.e) ))\n",
    "#         print('KL divergence loss: {:.4f}'.format(-torch.mean(p_z - q_z) * np.log2(np.e) ))\n",
    "        return -torch.mean(l + p_z - q_z) * np.log2(np.e)/self.inp_size\n",
    "\n",
    "    def sample(self, device, epoch, num=64):\n",
    "        sample = torch.randn(num, self.latent_dim).to(device)\n",
    "        x_alpha, x_beta = self.decode(sample)\n",
    "        beta = Beta(x_alpha, x_beta)\n",
    "        p = beta.sample()\n",
    "        binomial = Binomial(255, p)\n",
    "        x_sample = binomial.sample()\n",
    "        x_sample = x_sample.float() / 255.\n",
    "        save_image(x_sample.view(num, 1, 28, 28),\n",
    "                   'results_camelyon_probabilistic/epoch_{}_samples.png'.format(epoch))\n",
    "\n",
    "    def reconstruct(self, x, device, epoch):\n",
    "        x = x.view(-1, self.inp_size).float().to(device)\n",
    "        z_mu, z_logvar = self.encode(x)\n",
    "        z = self.reparameterize(z_mu, z_logvar)  # sample zs\n",
    "        x_alpha, x_beta = self.decode(z)\n",
    "        beta = Beta(x_alpha, x_beta)\n",
    "        p = beta.sample()\n",
    "        binomial = Binomial(255, p)\n",
    "        x_recon = binomial.sample()\n",
    "#         print(x.max(), x_recon.max())\n",
    "        x_recon = x_recon.float() / 255.\n",
    "        x_with_recon = torch.cat((x.view(-1, 1, 28, 28)/ 255, x_recon.view(-1, 1, 28, 28)))\n",
    "        save_image(x_with_recon,\n",
    "                   'results_camelyon_probabilistic/epoch_{}_recon.png'.format(epoch))"
   ]
  },
  {
   "cell_type": "code",
   "execution_count": 22,
   "metadata": {},
   "outputs": [
    {
     "ename": "FileNotFoundError",
     "evalue": "[Errno 2] No such file or directory: 'saved_params_camelyon/torch_vae_beta_binomial_params_'",
     "output_type": "error",
     "traceback": [
      "\u001b[0;31m---------------------------------------------------------------------------\u001b[0m",
      "\u001b[0;31mFileNotFoundError\u001b[0m                         Traceback (most recent call last)",
      "\u001b[0;32m<ipython-input-22-9b6aec7ac541>\u001b[0m in \u001b[0;36m<module>\u001b[0;34m\u001b[0m\n\u001b[1;32m      2\u001b[0m model.load_state_dict(\n\u001b[1;32m      3\u001b[0m     torch.load('saved_params_camelyon/torch_vae_beta_binomial_params_',\n\u001b[0;32m----> 4\u001b[0;31m                map_location=lambda storage, location: storage))\n\u001b[0m\u001b[1;32m      5\u001b[0m \u001b[0mmodel\u001b[0m\u001b[0;34m.\u001b[0m\u001b[0meval\u001b[0m\u001b[0;34m(\u001b[0m\u001b[0;34m)\u001b[0m\u001b[0;34m\u001b[0m\u001b[0;34m\u001b[0m\u001b[0m\n",
      "\u001b[0;32m~/miniconda3/envs/bb/lib/python3.7/site-packages/torch/serialization.py\u001b[0m in \u001b[0;36mload\u001b[0;34m(f, map_location, pickle_module, **pickle_load_args)\u001b[0m\n\u001b[1;32m    380\u001b[0m                     \u001b[0mobj_key\u001b[0m\u001b[0;34m,\u001b[0m\u001b[0;34m\u001b[0m\u001b[0;34m\u001b[0m\u001b[0m\n\u001b[1;32m    381\u001b[0m                     \u001b[0mlocation\u001b[0m\u001b[0;34m,\u001b[0m\u001b[0;34m\u001b[0m\u001b[0;34m\u001b[0m\u001b[0m\n\u001b[0;32m--> 382\u001b[0;31m                     \u001b[0mobj\u001b[0m\u001b[0;34m.\u001b[0m\u001b[0msize\u001b[0m\u001b[0;34m(\u001b[0m\u001b[0;34m)\u001b[0m\u001b[0;34m,\u001b[0m\u001b[0;34m\u001b[0m\u001b[0;34m\u001b[0m\u001b[0m\n\u001b[0m\u001b[1;32m    383\u001b[0m                     view_metadata)\n\u001b[1;32m    384\u001b[0m         \u001b[0;32mreturn\u001b[0m \u001b[0;32mNone\u001b[0m\u001b[0;34m\u001b[0m\u001b[0;34m\u001b[0m\u001b[0m\n",
      "\u001b[0;31mFileNotFoundError\u001b[0m: [Errno 2] No such file or directory: 'saved_params_camelyon/torch_vae_beta_binomial_params_'"
     ]
    }
   ],
   "source": [
    "model = BetaBinomialVAE(hidden_dim=3*200, latent_dim=latent_dim)\n",
    "model.load_state_dict(\n",
    "    torch.load('saved_params_camelyon/torch_vae_beta_binomial_params_latest.pt',\n",
    "               map_location=lambda storage, location: storage)[''])\n",
    "model.eval()"
   ]
  },
  {
   "cell_type": "code",
   "execution_count": 3,
   "metadata": {},
   "outputs": [],
   "source": [
    "rec_net = tvae_utils.torch_fun_to_numpy_fun(model.encode)\n",
    "gen_net = tvae_utils.torch_fun_to_numpy_fun(model.decode)\n",
    "\n",
    "obs_append = tvae_utils.beta_binomial_obs_append(255, obs_precision)\n",
    "obs_pop = tvae_utils.beta_binomial_obs_pop(255, obs_precision)\n",
    "\n",
    "vae_append = util.vae_append(latent_shape, gen_net, rec_net, obs_append,\n",
    "                             prior_precision, q_precision)\n",
    "vae_pop = util.vae_pop(latent_shape, gen_net, rec_net, obs_pop,\n",
    "                       prior_precision, q_precision)"
   ]
  },
  {
   "cell_type": "code",
   "execution_count": 4,
   "metadata": {
    "scrolled": false
   },
   "outputs": [
    {
     "name": "stdout",
     "output_type": "stream",
     "text": [
      "img:  1\n",
      "appending data torch.Size([1, 784])\n"
     ]
    },
    {
     "name": "stderr",
     "output_type": "stream",
     "text": [
      "/home/reasatt/miniconda3/envs/bb/lib/python3.7/site-packages/torchvision/datasets/mnist.py:58: UserWarning: test_data has been renamed data\n",
      "  warnings.warn(\"test_data has been renamed data\")\n"
     ]
    },
    {
     "data": {
      "image/png": "[encoded data removed]",
      "text/plain": [
       "<Figure size 432x288 with 1 Axes>"
      ]
     },
     "metadata": {
      "needs_background": "light"
     },
     "output_type": "display_data"
    },
    {
     "name": "stdout",
     "output_type": "stream",
     "text": [
      "post_pop\n",
      "non_uni_pop: popped symbols shape (50,)\n",
      "[175, 192, 128, 11, 208, 254, 60, 244, 210, 70, 100, 252, 98, 222, 220, 178, 255, 174, 243, 44, 75, 244, 233, 85, 160, 207, 72, 182, 191, 103, 180, 180, 156, 215, 144, 101, 114, 126, 151, 83, 101, 246, 74, 52, 97, 27, 46, 88, 209, 36]\n",
      "lik_append\n",
      "input latent_idx (50,) [175 192 128  11 208 254  60 244 210  70 100 252  98 222 220 178 255 174\n",
      " 243  44  75 244 233  85 160 207  72 182 191 103 180 180 156 215 144 101\n",
      " 114 126 151  83 101 246  74  52  97  27  46  88 209  36]\n",
      "transformed the latent_idx through a generator to obs_params: \n",
      " 2 (1, 784) [3.9360025e-06 4.2631536e-06 2.2446438e-06 3.4886784e-06 1.5844681e-06\n",
      " 1.8692151e-06 2.4216470e-06 5.0185349e-06 2.6406731e-06 3.0660810e-06]\n",
      "beta_binomials_append: \n",
      "appending the obs_params\n",
      "a [3.9360025e-06 4.2631536e-06 2.2446438e-06 3.4886784e-06 1.5844681e-06\n",
      " 1.8692151e-06 2.4216470e-06 5.0185349e-06 2.6406731e-06 3.0660810e-06],\n",
      "b [150.72165  236.60295  155.4309   141.80083  142.39275  103.11921\n",
      " 122.28659  143.51003  110.280464 140.23576 ],\n",
      "n 255,\n",
      "precision 14:\n",
      "creating beta binomial probabilities from obs_params\n",
      " generate_beta_binomial_probs :  (1, 784, 256) [[9.99996071e-01 2.47991846e-06 7.80118889e-07 ... 1.00005591e-10\n",
      "  1.00005591e-10 1.00005591e-10]\n",
      " [9.99996854e-01 2.21584635e-06 5.74779391e-07 ... 1.00012115e-10\n",
      "  1.00012115e-10 1.00012115e-10]\n",
      " [9.99997792e-01 1.39799640e-06 4.34702528e-07 ... 1.00016444e-10\n",
      "  1.00016444e-10 1.00016444e-10]\n",
      " ...\n",
      " [9.99994839e-01 3.21958569e-06 1.03122092e-06 ... 9.99994839e-11\n",
      "  9.99994839e-11 9.99994839e-11]\n",
      " [9.99996806e-01 1.84849987e-06 6.46222757e-07 ... 9.99996806e-11\n",
      "  9.99996806e-11 9.99996806e-11]\n",
      " [9.99996792e-01 1.98319947e-06 6.40498978e-07 ... 1.00006110e-10\n",
      "  1.00006110e-10 1.00006110e-10]]\n",
      "categoricals_append:\n",
      "input probs  (1, 784, 256) [[9.99996071e-01 2.47991846e-06 7.80118889e-07 ... 1.00005591e-10\n",
      "  1.00005591e-10 1.00005591e-10]\n",
      " [9.99996854e-01 2.21584635e-06 5.74779391e-07 ... 1.00012115e-10\n",
      "  1.00012115e-10 1.00012115e-10]\n",
      " [9.99997792e-01 1.39799640e-06 4.34702528e-07 ... 1.00016444e-10\n",
      "  1.00016444e-10 1.00016444e-10]\n",
      " ...\n",
      " [9.99994839e-01 3.21958569e-06 1.03122092e-06 ... 9.99994839e-11\n",
      "  9.99994839e-11 9.99994839e-11]\n",
      " [9.99996806e-01 1.84849987e-06 6.46222757e-07 ... 9.99996806e-11\n",
      "  9.99996806e-11 9.99996806e-11]\n",
      " [9.99996792e-01 1.98319947e-06 6.40498978e-07 ... 1.00006110e-10\n",
      "  1.00006110e-10 1.00006110e-10]]\n",
      "probs after reshaping (784, 256)\n",
      "extracting cdf bucket creating functions from probs and passing it to non_uniform append\n",
      "cdfs (784,)\n",
      "categoricals_append-->append-->data\n"
     ]
    },
    {
     "data": {
      "image/png": "[encoded data removed]",
      "text/plain": [
       "<Figure size 432x288 with 1 Axes>"
      ]
     },
     "metadata": {
      "needs_background": "light"
     },
     "output_type": "display_data"
    },
    {
     "name": "stdout",
     "output_type": "stream",
     "text": [
      "non_uniforms_append input symbols (784,)\n",
      "[0 0 0 0 0 0 0 0 0 0 0 0 0 0 0 0 0 0 0 0 0 0 0 0 0 0 0 0 0 0 0 0 0 0 0 0 0\n",
      " 0 0 0 0 0 0 0 0 0 0 0 0 0]\n",
      "prior_append\n",
      "uniforms_append input symbols (50,)\n",
      "[175 192 128  11 208 254  60 244 210  70 100 252  98 222 220 178 255 174\n",
      " 243  44  75 244 233  85 160 207  72 182 191 103 180 180 156 215 144 101\n",
      " 114 126 151  83 101 246  74  52  97  27  46  88 209  36]\n",
      "Encoded 0\n",
      "state len:  79\n",
      "img:  2\n",
      "appending data torch.Size([1, 784])\n"
     ]
    },
    {
     "data": {
      "image/png": "[encoded data removed]",
      "text/plain": [
       "<Figure size 432x288 with 1 Axes>"
      ]
     },
     "metadata": {
      "needs_background": "light"
     },
     "output_type": "display_data"
    },
    {
     "name": "stdout",
     "output_type": "stream",
     "text": [
      "post_pop\n",
      "non_uni_pop: popped symbols shape (50,)\n",
      "[195, 89, 224, 157, 191, 226, 3, 26, 219, 20, 176, 67, 49, 126, 53, 186, 52, 29, 231, 22, 254, 14, 23, 201, 63, 239, 24, 221, 146, 35, 39, 205, 124, 198, 223, 84, 103, 28, 29, 57, 185, 17, 64, 248, 2, 188, 27, 103, 199, 98]\n",
      "lik_append\n",
      "input latent_idx (50,) [195  89 224 157 191 226   3  26 219  20 176  67  49 126  53 186  52  29\n",
      " 231  22 254  14  23 201  63 239  24 221 146  35  39 205 124 198 223  84\n",
      " 103  28  29  57 185  17  64 248   2 188  27 103 199  98]\n",
      "transformed the latent_idx through a generator to obs_params: \n",
      " 2 (1, 784) [3.7356308e-06 2.8188394e-06 3.1600591e-06 3.7988395e-06 2.7989845e-06\n",
      " 2.6446980e-06 3.1919224e-06 4.6196328e-06 5.8689966e-06 2.0081500e-06]\n",
      "beta_binomials_append: \n",
      "appending the obs_params\n",
      "a [3.7356308e-06 2.8188394e-06 3.1600591e-06 3.7988395e-06 2.7989845e-06\n",
      " 2.6446980e-06 3.1919224e-06 4.6196328e-06 5.8689966e-06 2.0081500e-06],\n",
      "b [106.96963  122.11796  156.00441  167.65395  218.34273  273.30334\n",
      " 149.09303  156.85782  122.12768  123.013954],\n",
      "n 255,\n",
      "precision 14:\n",
      "creating beta binomial probabilities from obs_params\n",
      " generate_beta_binomial_probs :  (1, 784, 256) [[9.99995411e-01 2.63895189e-06 9.31045613e-07 ... 1.00004794e-10\n",
      "  1.00004794e-10 1.00004794e-10]\n",
      " [9.99996790e-01 1.91126452e-06 6.47079868e-07 ... 9.99996790e-11\n",
      "  9.99996790e-11 9.99996790e-11]\n",
      " [9.99996908e-01 1.96550568e-06 6.10311294e-07 ... 9.99996908e-11\n",
      "  9.99996908e-11 9.99996908e-11]\n",
      " ...\n",
      " [9.99995508e-01 2.86721308e-06 8.88448937e-07 ... 9.99995508e-11\n",
      "  9.99995508e-11 9.99995508e-11]\n",
      " [9.99993343e-01 3.97902326e-06 1.34711180e-06 ... 9.99993343e-11\n",
      "  9.99993343e-11 9.99993343e-11]\n",
      " [9.99997716e-01 1.35834958e-06 4.58788143e-07 ... 9.99997716e-11\n",
      "  9.99997716e-11 9.99997716e-11]]\n",
      "categoricals_append:\n",
      "input probs  (1, 784, 256) [[9.99995411e-01 2.63895189e-06 9.31045613e-07 ... 1.00004794e-10\n",
      "  1.00004794e-10 1.00004794e-10]\n",
      " [9.99996790e-01 1.91126452e-06 6.47079868e-07 ... 9.99996790e-11\n",
      "  9.99996790e-11 9.99996790e-11]\n",
      " [9.99996908e-01 1.96550568e-06 6.10311294e-07 ... 9.99996908e-11\n",
      "  9.99996908e-11 9.99996908e-11]\n",
      " ...\n",
      " [9.99995508e-01 2.86721308e-06 8.88448937e-07 ... 9.99995508e-11\n",
      "  9.99995508e-11 9.99995508e-11]\n",
      " [9.99993343e-01 3.97902326e-06 1.34711180e-06 ... 9.99993343e-11\n",
      "  9.99993343e-11 9.99993343e-11]\n",
      " [9.99997716e-01 1.35834958e-06 4.58788143e-07 ... 9.99997716e-11\n",
      "  9.99997716e-11 9.99997716e-11]]\n",
      "probs after reshaping (784, 256)\n",
      "extracting cdf bucket creating functions from probs and passing it to non_uniform append\n",
      "cdfs (784,)\n",
      "categoricals_append-->append-->data\n"
     ]
    },
    {
     "data": {
      "image/png": "[encoded data removed]",
      "text/plain": [
       "<Figure size 432x288 with 1 Axes>"
      ]
     },
     "metadata": {
      "needs_background": "light"
     },
     "output_type": "display_data"
    },
    {
     "name": "stdout",
     "output_type": "stream",
     "text": [
      "non_uniforms_append input symbols (784,)\n",
      "[0 0 0 0 0 0 0 0 0 0 0 0 0 0 0 0 0 0 0 0 0 0 0 0 0 0 0 0 0 0 0 0 0 0 0 0 0\n",
      " 0 0 0 0 0 0 0 0 0 0 0 0 0]\n",
      "prior_append\n",
      "uniforms_append input symbols (50,)\n",
      "[195  89 224 157 191 226   3  26 219  20 176  67  49 126  53 186  52  29\n",
      " 231  22 254  14  23 201  63 239  24 221 146  35  39 205 124 198 223  84\n",
      " 103  28  29  57 185  17  64 248   2 188  27 103 199  98]\n",
      "state len:  118\n",
      "\n",
      "All encoded in 1.05s\n",
      "Used 2176 bits.\n",
      "This is 1.39 bits per pixel\n",
      "uni_pop: popped symbols shape (50,)\n",
      "[195, 89, 224, 157, 191, 226, 3, 26, 219, 20, 176, 67, 49, 126, 53, 186, 52, 29, 231, 22, 254, 14, 23, 201, 63, 239, 24, 221, 146, 35, 39, 205, 124, 198, 223, 84, 103, 28, 29, 57, 185, 17, 64, 248, 2, 188, 27, 103, 199, 98]\n",
      "non_uni_pop: popped symbols shape (784,)\n",
      "[0, 0, 0, 0, 0, 0, 0, 0, 0, 0, 0, 0, 0, 0, 0, 0, 0, 0, 0, 0, 0, 0, 0, 0, 0, 0, 0, 0, 0, 0, 0, 0, 0, 0, 0, 0, 0, 0, 0, 0, 0, 0, 0, 0, 0, 0, 0, 0, 0, 0]\n",
      "non_uniforms_append input symbols (50,)\n",
      "[195  89 224 157 191 226   3  26 219  20 176  67  49 126  53 186  52  29\n",
      " 231  22 254  14  23 201  63 239  24 221 146  35  39 205 124 198 223  84\n",
      " 103  28  29  57 185  17  64 248   2 188  27 103 199  98]\n",
      "Decoded 0\n",
      "uni_pop: popped symbols shape (50,)\n",
      "[175, 192, 128, 11, 208, 254, 60, 244, 210, 70, 100, 252, 98, 222, 220, 178, 255, 174, 243, 44, 75, 244, 233, 85, 160, 207, 72, 182, 191, 103, 180, 180, 156, 215, 144, 101, 114, 126, 151, 83, 101, 246, 74, 52, 97, 27, 46, 88, 209, 36]\n",
      "non_uni_pop: popped symbols shape (784,)\n",
      "[0, 0, 0, 0, 0, 0, 0, 0, 0, 0, 0, 0, 0, 0, 0, 0, 0, 0, 0, 0, 0, 0, 0, 0, 0, 0, 0, 0, 0, 0, 0, 0, 0, 0, 0, 0, 0, 0, 0, 0, 0, 0, 0, 0, 0, 0, 0, 0, 0, 0]\n",
      "non_uniforms_append input symbols (50,)\n",
      "[175 192 128  11 208 254  60 244 210  70 100 252  98 222 220 178 255 174\n",
      " 243  44  75 244 233  85 160 207  72 182 191 103 180 180 156 215 144 101\n",
      " 114 126 151  83 101 246  74  52  97  27  46  88 209  36]\n",
      "\n",
      "All decoded in 0.70s\n"
     ]
    }
   ],
   "source": [
    "# load some mnist images\n",
    "num_images=2\n",
    "\n",
    "mnist = datasets.MNIST('data/mnist', train=False, download=True,\n",
    "                       transform=transforms.Compose([transforms.ToTensor()]))\n",
    "images = mnist.test_data[:num_images]\n",
    "\n",
    "images = [image.float().view(1, -1) for image in images]\n",
    "\n",
    "# randomly generate some 'other' bits\n",
    "other_bits = rng.randint(low=1 << 16, high=1 << 31, size=50, dtype=np.uint32)\n",
    "state = rans.unflatten(other_bits)\n",
    "\n",
    "print_interval = 10\n",
    "encode_start_time = time.time()\n",
    "for i, image in enumerate(images):\n",
    "    print('img: ',i+1)\n",
    "    state = vae_append(state, image)\n",
    "#     if i==2:\n",
    "#         break\n",
    "#     '''\n",
    "    if not i % print_interval:\n",
    "        print('Encoded {}'.format(i))\n",
    "    print('state len: ',len(rans.flatten(state)))\n",
    "    compressed_length = 32 * (len(rans.flatten(state)) - len(other_bits)) / (i+1)\n",
    "#     print('compressed_length_avg',compressed_length)\n",
    "    compress_lengths.append(compressed_length)\n",
    "\n",
    "print('\\nAll encoded in {:.2f}s'.format(time.time() - encode_start_time))\n",
    "compressed_message = rans.flatten(state)\n",
    "\n",
    "compressed_bits = 32 * (len(compressed_message) - len(other_bits))\n",
    "print(\"Used \" + str(compressed_bits) + \" bits.\")\n",
    "print('This is {:.2f} bits per pixel'.format(compressed_bits\n",
    "                                             / (num_images * 784)))\n",
    "\n",
    "if not os.path.exists('results'):\n",
    "    os.mkdir('results')\n",
    "np.savetxt('compressed_lengths_cts', np.array(compress_lengths))\n",
    "\n",
    "state = rans.unflatten(compressed_message)\n",
    "decode_start_time = time.time()\n",
    "\n",
    "for n in range(len(images)):\n",
    "    state, image_ = vae_pop(state)\n",
    "    original_image = images[len(images)-n-1].numpy()\n",
    "    np.testing.assert_allclose(original_image, image_)\n",
    "\n",
    "    if not n % print_interval:\n",
    "        print('Decoded {}'.format(n))\n",
    "\n",
    "print('\\nAll decoded in {:.2f}s'.format(time.time() - decode_start_time))\n",
    "\n",
    "recovered_bits = rans.flatten(state)\n",
    "assert all(other_bits == recovered_bits)\n",
    "# '''"
   ]
  },
  {
   "cell_type": "code",
   "execution_count": 11,
   "metadata": {},
   "outputs": [
    {
     "data": {
      "text/plain": [
       "tensor([[  0.,   0.,   0.,   0.,   0.,   0.,   0.,   0.,   0.,   0.,   0.,   0.,\n",
       "           0.,   0.,   0.,   0.,   0.,   0.,   0.,   0.,   0.,   0.,   0.,   0.,\n",
       "           0.,   0.,   0.,   0.,   0.,   0.,   0.,   0.,   0.,   0.,   0.,   0.,\n",
       "           0.,   0.,   0.,   0.,   0.,   0.,   0.,   0.,   0.,   0.,   0.,   0.,\n",
       "           0.,   0.,   0.,   0.,   0.,   0.,   0.,   0.,   0.,   0.,   0.,   0.,\n",
       "           0.,   0.,   0.,   0.,   0.,   0.,   0.,   0.,   0.,   0.,   0.,   0.,\n",
       "           0.,   0.,   0.,   0.,   0.,   0.,   0.,   0.,   0.,   0.,   0.,   0.,\n",
       "           0.,   0.,   0.,   0.,   0.,   0.,   0.,   0.,   0.,   0.,   0.,   0.,\n",
       "           0.,   0.,   0.,   0.,   0.,   0.,   0.,   0.,   0.,   0.,   0.,   0.,\n",
       "           0.,   0.,   0.,   0.,   0.,   0.,   0.,   0.,   0.,   0.,   0.,   0.,\n",
       "           0.,   0.,   0.,   0.,   0.,   0.,   0.,   0.,   0.,   0.,   0.,   0.,\n",
       "           0.,   0.,   0.,   0.,   0.,   0.,   0.,   0.,   0.,   0.,   0.,   0.,\n",
       "           0.,   0.,   0.,   0.,   0.,   0.,   0.,   0.,   0.,   0.,   0.,   0.,\n",
       "           0.,   0.,   0.,   0.,   0.,   0.,   0.,   0.,   0.,   0.,   0.,   0.,\n",
       "           0.,   0.,   0.,   0.,   0.,   0.,   0.,   0.,   0.,   0.,   0.,   0.,\n",
       "           0.,   0.,   0.,   0.,   0.,   0.,   0.,   0.,   0.,   0.,   0.,   0.,\n",
       "           0.,   0.,   0.,   0.,   0.,   0.,   0.,   0.,   0.,   0.,  84., 185.,\n",
       "         159., 151.,  60.,  36.,   0.,   0.,   0.,   0.,   0.,   0.,   0.,   0.,\n",
       "           0.,   0.,   0.,   0.,   0.,   0.,   0.,   0.,   0.,   0.,   0.,   0.,\n",
       "           0.,   0., 222., 254., 254., 254., 254., 241., 198., 198., 198., 198.,\n",
       "         198., 198., 198., 198., 170.,  52.,   0.,   0.,   0.,   0.,   0.,   0.,\n",
       "           0.,   0.,   0.,   0.,   0.,   0.,  67., 114.,  72., 114., 163., 227.,\n",
       "         254., 225., 254., 254., 254., 250., 229., 254., 254., 140.,   0.,   0.,\n",
       "           0.,   0.,   0.,   0.,   0.,   0.,   0.,   0.,   0.,   0.,   0.,   0.,\n",
       "           0.,   0.,   0.,  17.,  66.,  14.,  67.,  67.,  67.,  59.,  21., 236.,\n",
       "         254., 106.,   0.,   0.,   0.,   0.,   0.,   0.,   0.,   0.,   0.,   0.,\n",
       "           0.,   0.,   0.,   0.,   0.,   0.,   0.,   0.,   0.,   0.,   0.,   0.,\n",
       "           0.,   0.,  83., 253., 209.,  18.,   0.,   0.,   0.,   0.,   0.,   0.,\n",
       "           0.,   0.,   0.,   0.,   0.,   0.,   0.,   0.,   0.,   0.,   0.,   0.,\n",
       "           0.,   0.,   0.,   0.,   0.,  22., 233., 255.,  83.,   0.,   0.,   0.,\n",
       "           0.,   0.,   0.,   0.,   0.,   0.,   0.,   0.,   0.,   0.,   0.,   0.,\n",
       "           0.,   0.,   0.,   0.,   0.,   0.,   0.,   0.,   0., 129., 254., 238.,\n",
       "          44.,   0.,   0.,   0.,   0.,   0.,   0.,   0.,   0.,   0.,   0.,   0.,\n",
       "           0.,   0.,   0.,   0.,   0.,   0.,   0.,   0.,   0.,   0.,   0.,   0.,\n",
       "          59., 249., 254.,  62.,   0.,   0.,   0.,   0.,   0.,   0.,   0.,   0.,\n",
       "           0.,   0.,   0.,   0.,   0.,   0.,   0.,   0.,   0.,   0.,   0.,   0.,\n",
       "           0.,   0.,   0.,   0., 133., 254., 187.,   5.,   0.,   0.,   0.,   0.,\n",
       "           0.,   0.,   0.,   0.,   0.,   0.,   0.,   0.,   0.,   0.,   0.,   0.,\n",
       "           0.,   0.,   0.,   0.,   0.,   0.,   0.,   9., 205., 248.,  58.,   0.,\n",
       "           0.,   0.,   0.,   0.,   0.,   0.,   0.,   0.,   0.,   0.,   0.,   0.,\n",
       "           0.,   0.,   0.,   0.,   0.,   0.,   0.,   0.,   0.,   0.,   0., 126.,\n",
       "         254., 182.,   0.,   0.,   0.,   0.,   0.,   0.,   0.,   0.,   0.,   0.,\n",
       "           0.,   0.,   0.,   0.,   0.,   0.,   0.,   0.,   0.,   0.,   0.,   0.,\n",
       "           0.,   0.,  75., 251., 240.,  57.,   0.,   0.,   0.,   0.,   0.,   0.,\n",
       "           0.,   0.,   0.,   0.,   0.,   0.,   0.,   0.,   0.,   0.,   0.,   0.,\n",
       "           0.,   0.,   0.,   0.,   0.,  19., 221., 254., 166.,   0.,   0.,   0.,\n",
       "           0.,   0.,   0.,   0.,   0.,   0.,   0.,   0.,   0.,   0.,   0.,   0.,\n",
       "           0.,   0.,   0.,   0.,   0.,   0.,   0.,   0.,   3., 203., 254., 219.,\n",
       "          35.,   0.,   0.,   0.,   0.,   0.,   0.,   0.,   0.,   0.,   0.,   0.,\n",
       "           0.,   0.,   0.,   0.,   0.,   0.,   0.,   0.,   0.,   0.,   0.,   0.,\n",
       "          38., 254., 254.,  77.,   0.,   0.,   0.,   0.,   0.,   0.,   0.,   0.,\n",
       "           0.,   0.,   0.,   0.,   0.,   0.,   0.,   0.,   0.,   0.,   0.,   0.,\n",
       "           0.,   0.,   0.,  31., 224., 254., 115.,   1.,   0.,   0.,   0.,   0.,\n",
       "           0.,   0.,   0.,   0.,   0.,   0.,   0.,   0.,   0.,   0.,   0.,   0.,\n",
       "           0.,   0.,   0.,   0.,   0.,   0.,   0., 133., 254., 254.,  52.,   0.,\n",
       "           0.,   0.,   0.,   0.,   0.,   0.,   0.,   0.,   0.,   0.,   0.,   0.,\n",
       "           0.,   0.,   0.,   0.,   0.,   0.,   0.,   0.,   0.,   0.,  61., 242.,\n",
       "         254., 254.,  52.,   0.,   0.,   0.,   0.,   0.,   0.,   0.,   0.,   0.,\n",
       "           0.,   0.,   0.,   0.,   0.,   0.,   0.,   0.,   0.,   0.,   0.,   0.,\n",
       "           0.,   0., 121., 254., 254., 219.,  40.,   0.,   0.,   0.,   0.,   0.,\n",
       "           0.,   0.,   0.,   0.,   0.,   0.,   0.,   0.,   0.,   0.,   0.,   0.,\n",
       "           0.,   0.,   0.,   0.,   0.,   0., 121., 254., 207.,  18.,   0.,   0.,\n",
       "           0.,   0.,   0.,   0.,   0.,   0.,   0.,   0.,   0.,   0.,   0.,   0.,\n",
       "           0.,   0.,   0.,   0.,   0.,   0.,   0.,   0.,   0.,   0.,   0.,   0.,\n",
       "           0.,   0.,   0.,   0.,   0.,   0.,   0.,   0.,   0.,   0.,   0.,   0.,\n",
       "           0.,   0.,   0.,   0.]])"
      ]
     },
     "execution_count": 11,
     "metadata": {},
     "output_type": "execute_result"
    }
   ],
   "source": [
    "image_"
   ]
  },
  {
   "cell_type": "code",
   "execution_count": 12,
   "metadata": {},
   "outputs": [
    {
     "data": {
      "text/plain": [
       "array([[  0.,   0.,   0.,   0.,   0.,   0.,   0.,   0.,   0.,   0.,   0.,\n",
       "          0.,   0.,   0.,   0.,   0.,   0.,   0.,   0.,   0.,   0.,   0.,\n",
       "          0.,   0.,   0.,   0.,   0.,   0.,   0.,   0.,   0.,   0.,   0.,\n",
       "          0.,   0.,   0.,   0.,   0.,   0.,   0.,   0.,   0.,   0.,   0.,\n",
       "          0.,   0.,   0.,   0.,   0.,   0.,   0.,   0.,   0.,   0.,   0.,\n",
       "          0.,   0.,   0.,   0.,   0.,   0.,   0.,   0.,   0.,   0.,   0.,\n",
       "          0.,   0.,   0.,   0.,   0.,   0.,   0.,   0.,   0.,   0.,   0.,\n",
       "          0.,   0.,   0.,   0.,   0.,   0.,   0.,   0.,   0.,   0.,   0.,\n",
       "          0.,   0.,   0.,   0.,   0.,   0.,   0.,   0.,   0.,   0.,   0.,\n",
       "          0.,   0.,   0.,   0.,   0.,   0.,   0.,   0.,   0.,   0.,   0.,\n",
       "          0.,   0.,   0.,   0.,   0.,   0.,   0.,   0.,   0.,   0.,   0.,\n",
       "          0.,   0.,   0.,   0.,   0.,   0.,   0.,   0.,   0.,   0.,   0.,\n",
       "          0.,   0.,   0.,   0.,   0.,   0.,   0.,   0.,   0.,   0.,   0.,\n",
       "          0.,   0.,   0.,   0.,   0.,   0.,   0.,   0.,   0.,   0.,   0.,\n",
       "          0.,   0.,   0.,   0.,   0.,   0.,   0.,   0.,   0.,   0.,   0.,\n",
       "          0.,   0.,   0.,   0.,   0.,   0.,   0.,   0.,   0.,   0.,   0.,\n",
       "          0.,   0.,   0.,   0.,   0.,   0.,   0.,   0.,   0.,   0.,   0.,\n",
       "          0.,   0.,   0.,   0.,   0.,   0.,   0.,   0.,   0.,   0.,   0.,\n",
       "          0.,   0.,   0.,   0.,  84., 185., 159., 151.,  60.,  36.,   0.,\n",
       "          0.,   0.,   0.,   0.,   0.,   0.,   0.,   0.,   0.,   0.,   0.,\n",
       "          0.,   0.,   0.,   0.,   0.,   0.,   0.,   0.,   0.,   0., 222.,\n",
       "        254., 254., 254., 254., 241., 198., 198., 198., 198., 198., 198.,\n",
       "        198., 198., 170.,  52.,   0.,   0.,   0.,   0.,   0.,   0.,   0.,\n",
       "          0.,   0.,   0.,   0.,   0.,  67., 114.,  72., 114., 163., 227.,\n",
       "        254., 225., 254., 254., 254., 250., 229., 254., 254., 140.,   0.,\n",
       "          0.,   0.,   0.,   0.,   0.,   0.,   0.,   0.,   0.,   0.,   0.,\n",
       "          0.,   0.,   0.,   0.,   0.,  17.,  66.,  14.,  67.,  67.,  67.,\n",
       "         59.,  21., 236., 254., 106.,   0.,   0.,   0.,   0.,   0.,   0.,\n",
       "          0.,   0.,   0.,   0.,   0.,   0.,   0.,   0.,   0.,   0.,   0.,\n",
       "          0.,   0.,   0.,   0.,   0.,   0.,   0.,  83., 253., 209.,  18.,\n",
       "          0.,   0.,   0.,   0.,   0.,   0.,   0.,   0.,   0.,   0.,   0.,\n",
       "          0.,   0.,   0.,   0.,   0.,   0.,   0.,   0.,   0.,   0.,   0.,\n",
       "          0.,  22., 233., 255.,  83.,   0.,   0.,   0.,   0.,   0.,   0.,\n",
       "          0.,   0.,   0.,   0.,   0.,   0.,   0.,   0.,   0.,   0.,   0.,\n",
       "          0.,   0.,   0.,   0.,   0.,   0.,   0., 129., 254., 238.,  44.,\n",
       "          0.,   0.,   0.,   0.,   0.,   0.,   0.,   0.,   0.,   0.,   0.,\n",
       "          0.,   0.,   0.,   0.,   0.,   0.,   0.,   0.,   0.,   0.,   0.,\n",
       "          0.,  59., 249., 254.,  62.,   0.,   0.,   0.,   0.,   0.,   0.,\n",
       "          0.,   0.,   0.,   0.,   0.,   0.,   0.,   0.,   0.,   0.,   0.,\n",
       "          0.,   0.,   0.,   0.,   0.,   0.,   0., 133., 254., 187.,   5.,\n",
       "          0.,   0.,   0.,   0.,   0.,   0.,   0.,   0.,   0.,   0.,   0.,\n",
       "          0.,   0.,   0.,   0.,   0.,   0.,   0.,   0.,   0.,   0.,   0.,\n",
       "          0.,   9., 205., 248.,  58.,   0.,   0.,   0.,   0.,   0.,   0.,\n",
       "          0.,   0.,   0.,   0.,   0.,   0.,   0.,   0.,   0.,   0.,   0.,\n",
       "          0.,   0.,   0.,   0.,   0.,   0.,   0., 126., 254., 182.,   0.,\n",
       "          0.,   0.,   0.,   0.,   0.,   0.,   0.,   0.,   0.,   0.,   0.,\n",
       "          0.,   0.,   0.,   0.,   0.,   0.,   0.,   0.,   0.,   0.,   0.,\n",
       "          0.,  75., 251., 240.,  57.,   0.,   0.,   0.,   0.,   0.,   0.,\n",
       "          0.,   0.,   0.,   0.,   0.,   0.,   0.,   0.,   0.,   0.,   0.,\n",
       "          0.,   0.,   0.,   0.,   0.,   0.,  19., 221., 254., 166.,   0.,\n",
       "          0.,   0.,   0.,   0.,   0.,   0.,   0.,   0.,   0.,   0.,   0.,\n",
       "          0.,   0.,   0.,   0.,   0.,   0.,   0.,   0.,   0.,   0.,   0.,\n",
       "          3., 203., 254., 219.,  35.,   0.,   0.,   0.,   0.,   0.,   0.,\n",
       "          0.,   0.,   0.,   0.,   0.,   0.,   0.,   0.,   0.,   0.,   0.,\n",
       "          0.,   0.,   0.,   0.,   0.,   0.,  38., 254., 254.,  77.,   0.,\n",
       "          0.,   0.,   0.,   0.,   0.,   0.,   0.,   0.,   0.,   0.,   0.,\n",
       "          0.,   0.,   0.,   0.,   0.,   0.,   0.,   0.,   0.,   0.,   0.,\n",
       "         31., 224., 254., 115.,   1.,   0.,   0.,   0.,   0.,   0.,   0.,\n",
       "          0.,   0.,   0.,   0.,   0.,   0.,   0.,   0.,   0.,   0.,   0.,\n",
       "          0.,   0.,   0.,   0.,   0.,   0., 133., 254., 254.,  52.,   0.,\n",
       "          0.,   0.,   0.,   0.,   0.,   0.,   0.,   0.,   0.,   0.,   0.,\n",
       "          0.,   0.,   0.,   0.,   0.,   0.,   0.,   0.,   0.,   0.,   0.,\n",
       "         61., 242., 254., 254.,  52.,   0.,   0.,   0.,   0.,   0.,   0.,\n",
       "          0.,   0.,   0.,   0.,   0.,   0.,   0.,   0.,   0.,   0.,   0.,\n",
       "          0.,   0.,   0.,   0.,   0.,   0., 121., 254., 254., 219.,  40.,\n",
       "          0.,   0.,   0.,   0.,   0.,   0.,   0.,   0.,   0.,   0.,   0.,\n",
       "          0.,   0.,   0.,   0.,   0.,   0.,   0.,   0.,   0.,   0.,   0.,\n",
       "          0., 121., 254., 207.,  18.,   0.,   0.,   0.,   0.,   0.,   0.,\n",
       "          0.,   0.,   0.,   0.,   0.,   0.,   0.,   0.,   0.,   0.,   0.,\n",
       "          0.,   0.,   0.,   0.,   0.,   0.,   0.,   0.,   0.,   0.,   0.,\n",
       "          0.,   0.,   0.,   0.,   0.,   0.,   0.,   0.,   0.,   0.,   0.,\n",
       "          0.,   0.,   0.]], dtype=float32)"
      ]
     },
     "execution_count": 12,
     "metadata": {},
     "output_type": "execute_result"
    }
   ],
   "source": [
    "original_image"
   ]
  },
  {
   "cell_type": "code",
   "execution_count": 5,
   "metadata": {},
   "outputs": [
    {
     "data": {
      "text/plain": [
       "(900731659723581999,\n",
       " (924296821,\n",
       "  (1478675648,\n",
       "   (441430851,\n",
       "    (1537430267,\n",
       "     (192837315,\n",
       "      (1491500391,\n",
       "       (1819649033,\n",
       "        (530767571,\n",
       "         (626675989,\n",
       "          (1650972402,\n",
       "           (1879488292,\n",
       "            (1277966935,\n",
       "             (1682717766,\n",
       "              (243645912,\n",
       "               (1991481944,\n",
       "                (1171115404,\n",
       "                 (1646934330,\n",
       "                  (2051621569,\n",
       "                   (1253015014,\n",
       "                    (1340820007,\n",
       "                     (124168279,\n",
       "                      (2061551790,\n",
       "                       (292314712,\n",
       "                        (1687063377,\n",
       "                         (1827989157,\n",
       "                          (1443512857,\n",
       "                           (305163085,\n",
       "                            (1449171016,\n",
       "                             (374283017,\n",
       "                              (636458900,\n",
       "                               (86902899,\n",
       "                                (1581650896,\n",
       "                                 (1428656883,\n",
       "                                  (1963531973,\n",
       "                                   (1194739710,\n",
       "                                    (602867535,\n",
       "                                     (1589255599,\n",
       "                                      (1589578176,\n",
       "                                       (2055715666,\n",
       "                                        (2034196579,\n",
       "                                         (1284941784,\n",
       "                                          (1292467377,\n",
       "                                           (1982104307,\n",
       "                                            (88015645,\n",
       "                                             (1204929171,\n",
       "                                              (768347283,\n",
       "                                               (508050318,\n",
       "                                                (947675559,\n",
       "                                                 ())))))))))))))))))))))))))))))))))))))))))))))))))"
      ]
     },
     "execution_count": 5,
     "metadata": {},
     "output_type": "execute_result"
    }
   ],
   "source": [
    "state"
   ]
  },
  {
   "cell_type": "code",
   "execution_count": 6,
   "metadata": {},
   "outputs": [
    {
     "data": {
      "text/plain": [
       "<matplotlib.image.AxesImage at 0x7f398cfe3a50>"
      ]
     },
     "execution_count": 6,
     "metadata": {},
     "output_type": "execute_result"
    },
    {
     "data": {
      "image/png": "[encoded data removed]",
      "text/plain": [
       "<Figure size 432x288 with 1 Axes>"
      ]
     },
     "metadata": {
      "needs_background": "light"
     },
     "output_type": "display_data"
    }
   ],
   "source": [
    "plt.imshow(image.reshape(28,28))"
   ]
  },
  {
   "cell_type": "code",
   "execution_count": 7,
   "metadata": {},
   "outputs": [],
   "source": [
    "uniform_enc_statfun = lambda s: (s, 1)"
   ]
  },
  {
   "cell_type": "code",
   "execution_count": 8,
   "metadata": {},
   "outputs": [
    {
     "data": {
      "text/plain": [
       "(3, 1)"
      ]
     },
     "execution_count": 8,
     "metadata": {},
     "output_type": "execute_result"
    }
   ],
   "source": [
    "uniform_enc_statfun(3)"
   ]
  },
  {
   "cell_type": "code",
   "execution_count": 9,
   "metadata": {},
   "outputs": [],
   "source": [
    "uniform_dec_statfun = lambda cf: (cf, (cf, 1))"
   ]
  },
  {
   "cell_type": "code",
   "execution_count": 10,
   "metadata": {},
   "outputs": [
    {
     "data": {
      "text/plain": [
       "(3, (3, 1))"
      ]
     },
     "execution_count": 10,
     "metadata": {},
     "output_type": "execute_result"
    }
   ],
   "source": [
    "uniform_dec_statfun(3)"
   ]
  }
 ],
 "metadata": {
  "kernelspec": {
   "display_name": "Python 3",
   "language": "python",
   "name": "python3"
  },
  "language_info": {
   "codemirror_mode": {
    "name": "ipython",
    "version": 3
   },
   "file_extension": ".py",
   "mimetype": "text/x-python",
   "name": "python",
   "nbconvert_exporter": "python",
   "pygments_lexer": "ipython3",
   "version": "3.7.6"
  }
 },
 "nbformat": 4,
 "nbformat_minor": 2
}
